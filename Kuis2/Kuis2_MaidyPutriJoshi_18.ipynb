{
  "cells": [
    {
      "cell_type": "markdown",
      "metadata": {
        "id": "bmJmtQfuqAy5"
      },
      "source": [
        "# Kuis 2 Machine Learning\n",
        "### Nama: Maidy Putri Joshi\n",
        "### NIM: 2141720060\n",
        "### Kelas: TI-3F / 18\n"
      ]
    },
    {
      "cell_type": "code",
      "execution_count": 2,
      "metadata": {
        "id": "zXLN5XazoAHi"
      },
      "outputs": [],
      "source": [
        "import tensorflow as tf\n",
        "import numpy as np\n",
        "import pandas as pd\n",
        "import matplotlib.pyplot as plt\n",
        "import seaborn as sns\n",
        "from sklearn.preprocessing import LabelBinarizer\n",
        "from sklearn.model_selection import train_test_split\n",
        "from sklearn.metrics import classification_report\n",
        "import zipfile"
      ]
    },
    {
      "cell_type": "markdown",
      "metadata": {
        "id": "Dhplkwojqidk"
      },
      "source": [
        "Load Dataset\n",
        "\n",
        "Load MNIST"
      ]
    },
    {
      "cell_type": "code",
      "execution_count": 3,
      "metadata": {
        "id": "a6UhpLvXrVCV"
      },
      "outputs": [],
      "source": [
        "from tensorflow.keras.datasets import mnist"
      ]
    },
    {
      "cell_type": "code",
      "execution_count": 18,
      "metadata": {
        "id": "yCL6m5zBraGp"
      },
      "outputs": [],
      "source": [
        "(train_data, train_labels), (test_data, test_labels) = mnist.load_data()"
      ]
    },
    {
      "cell_type": "code",
      "execution_count": 19,
      "metadata": {
        "colab": {
          "base_uri": "https://localhost:8080/"
        },
        "id": "NvtmNaYlreLW",
        "outputId": "2b91b77b-c1d1-48b1-a810-10e402eaf1f3"
      },
      "outputs": [
        {
          "output_type": "execute_result",
          "data": {
            "text/plain": [
              "((60000, 28, 28), (10000, 28, 28))"
            ]
          },
          "metadata": {},
          "execution_count": 19
        }
      ],
      "source": [
        "# Check shape data\n",
        "(train_data.shape, test_data.shape)"
      ]
    },
    {
      "cell_type": "markdown",
      "metadata": {
        "id": "Kwf_q7yNrhlR"
      },
      "source": [
        "**Penjelasan**\n",
        "\n",
        "- Data pelatihan terdiri dari 60.000 gambar dengan resolusi 28x28 piksel\n",
        "- Data uji memiliki 10.000 gambar dengan resolusi 28x28 piksel"
      ]
    },
    {
      "cell_type": "code",
      "execution_count": 20,
      "metadata": {
        "colab": {
          "base_uri": "https://localhost:8080/"
        },
        "id": "f4PQrmVMroFe",
        "outputId": "6b4305fa-8205-4b79-e4b6-23b97ee2e656"
      },
      "outputs": [
        {
          "output_type": "execute_result",
          "data": {
            "text/plain": [
              "((60000,), (10000,))"
            ]
          },
          "metadata": {},
          "execution_count": 20
        }
      ],
      "source": [
        "# Check shape labels\n",
        "(train_labels.shape, test_labels.shape)"
      ]
    },
    {
      "cell_type": "markdown",
      "metadata": {
        "id": "KntaLTYgrt2g"
      },
      "source": [
        "**Penjelasan**\n",
        "\n",
        "- (train_labels) terdiri dari 60,000 label yang sesuai dengan setiap sampel pada train_data\n",
        "- (test_labels) terdiri dari 10,000 label yang sesuai dengan setiap sampel pada test_data"
      ]
    },
    {
      "cell_type": "code",
      "execution_count": 21,
      "metadata": {
        "colab": {
          "base_uri": "https://localhost:8080/"
        },
        "id": "7DxRoOKXr2T_",
        "outputId": "705ca44a-db27-4ca6-ef75-9accb7f413fe"
      },
      "outputs": [
        {
          "output_type": "execute_result",
          "data": {
            "text/plain": [
              "(28, 28)"
            ]
          },
          "metadata": {},
          "execution_count": 21
        }
      ],
      "source": [
        "# Check each data shape --> should be 28*28\n",
        "train_data[0].shape"
      ]
    },
    {
      "cell_type": "markdown",
      "metadata": {
        "id": "VyMxyMOir5tN"
      },
      "source": [
        "**Penjelasan**\n",
        "\n",
        "output diatas menunjukkan bahwa 1 sampel data pelatihan pertama adalah gambar berukuran 28x28 piksel"
      ]
    },
    {
      "cell_type": "code",
      "execution_count": 22,
      "metadata": {
        "colab": {
          "base_uri": "https://localhost:8080/"
        },
        "id": "7ucf1mTJsBuy",
        "outputId": "7e9b744b-d12b-438b-fd1d-3c2c89845c9d"
      },
      "outputs": [
        {
          "output_type": "execute_result",
          "data": {
            "text/plain": [
              "(60000,)"
            ]
          },
          "metadata": {},
          "execution_count": 22
        }
      ],
      "source": [
        "# Check the label\n",
        "train_labels.shape"
      ]
    },
    {
      "cell_type": "markdown",
      "metadata": {
        "id": "bAA42yGjsEbz"
      },
      "source": [
        "**Penjelasan**\n",
        "\n",
        "output diatas menunjukkan bahwa label pelatihan terdiri dari 60.000 elemen, masing-masing merepresentasikan digit yang sesuai dengan gambar tulisan tangan."
      ]
    },
    {
      "cell_type": "markdown",
      "metadata": {
        "id": "y0axfJ-RsG-U"
      },
      "source": [
        "# **Combine Train and Test Data**"
      ]
    },
    {
      "cell_type": "code",
      "execution_count": 23,
      "metadata": {
        "id": "rrWhbb-wsKfS"
      },
      "outputs": [],
      "source": [
        "digits_data = np.vstack([train_data, test_data])\n",
        "digits_labels = np.hstack([train_labels, test_labels])"
      ]
    },
    {
      "cell_type": "code",
      "execution_count": 24,
      "metadata": {
        "colab": {
          "base_uri": "https://localhost:8080/"
        },
        "id": "kuN8XBjssMbH",
        "outputId": "1c79d5d1-7f27-444f-d65a-fdbe3cde826f"
      },
      "outputs": [
        {
          "output_type": "execute_result",
          "data": {
            "text/plain": [
              "(70000, 28, 28)"
            ]
          },
          "metadata": {},
          "execution_count": 24
        }
      ],
      "source": [
        "# Check data shape\n",
        "digits_data.shape"
      ]
    },
    {
      "cell_type": "markdown",
      "metadata": {
        "id": "F1KlXToPsOXf"
      },
      "source": [
        "Penjelasan\n",
        "**bold text**\n",
        "output diatas merupakan data gabungan yang memiliki 70.000 sampel dengan dimensi gambar 28x28 piksel"
      ]
    },
    {
      "cell_type": "code",
      "execution_count": 25,
      "metadata": {
        "colab": {
          "base_uri": "https://localhost:8080/"
        },
        "id": "gPTDFTKtsPxt",
        "outputId": "4f01ecdb-444f-46c3-fca4-4a3a82b04978"
      },
      "outputs": [
        {
          "output_type": "execute_result",
          "data": {
            "text/plain": [
              "(70000,)"
            ]
          },
          "metadata": {},
          "execution_count": 25
        }
      ],
      "source": [
        "# Check label shape\n",
        "digits_labels.shape"
      ]
    },
    {
      "cell_type": "markdown",
      "metadata": {
        "id": "A8pIhHm0sT5o"
      },
      "source": [
        "**Penjelasan**\n",
        "\n",
        "Label gabungan memiliki 70,000 elemen, masing-masing merepresentasikan digit yang sesuai dengan gambar tulisan tangan"
      ]
    },
    {
      "cell_type": "code",
      "execution_count": 26,
      "metadata": {
        "colab": {
          "base_uri": "https://localhost:8080/",
          "height": 469
        },
        "id": "NxjpRsLBsXN-",
        "outputId": "9b9e2d9f-900c-42e8-ba1e-539db4bdb7ce"
      },
      "outputs": [
        {
          "output_type": "execute_result",
          "data": {
            "text/plain": [
              "Text(0.5, 1.0, 'Class: 6')"
            ]
          },
          "metadata": {},
          "execution_count": 26
        },
        {
          "output_type": "display_data",
          "data": {
            "text/plain": [
              "<Figure size 640x480 with 1 Axes>"
            ],
            "image/png": "[encoded data removed]"
          },
          "metadata": {}
        }
      ],
      "source": [
        "# Randomly checking the data\n",
        "idx = np.random.randint(0, digits_data.shape[0])\n",
        "plt.imshow(digits_data[idx], cmap='gray')\n",
        "plt.title('Class: ' + str(digits_labels[idx]))"
      ]
    },
    {
      "cell_type": "markdown",
      "metadata": {
        "id": "_LqYbR9Tsc1O"
      },
      "source": [
        "**Penjelasan**\n",
        "\n",
        "Program akan memilih secara acak satu sampel dari data gabungan dan menampilkannya menggunakan Matplotlib. Judul plot menunjukkan kelas atau label yang sesuai dengan gambar tersebut. Dalam kode ini, labelnya adalah 3."
      ]
    },
    {
      "cell_type": "code",
      "execution_count": 27,
      "metadata": {
        "colab": {
          "base_uri": "https://localhost:8080/",
          "height": 466
        },
        "id": "7D3jeffGsfru",
        "outputId": "d51ceb1e-e383-44e9-d72c-e13dfe68df6e"
      },
      "outputs": [
        {
          "output_type": "execute_result",
          "data": {
            "text/plain": [
              "<Axes: xlabel='Labels', ylabel='count'>"
            ]
          },
          "metadata": {},
          "execution_count": 27
        },
        {
          "output_type": "display_data",
          "data": {
            "text/plain": [
              "<Figure size 640x480 with 1 Axes>"
            ],
            "image/png": "[encoded data removed]"
          },
          "metadata": {}
        }
      ],
      "source": [
        "# Check data distribution\n",
        "df_labels = pd.DataFrame(digits_labels, columns=['Labels'])\n",
        "sns.countplot(df_labels, x='Labels')"
      ]
    },
    {
      "cell_type": "markdown",
      "metadata": {
        "id": "kc8ByFinskU8"
      },
      "source": [
        "**Penjelasan**\n",
        "\n",
        "- Output yang dihasilkan adalah diagram batang yang menunjukkan sebaran jumlah setiap kelas atau digit dalam dataset. Masing-masing batang merepresentasikan jumlah kemunculan setiap digit.\n",
        "\n",
        "- Pada sumbu x, memiliki label atau digit (0-9), dan pada sumbu y, memiliki jumlah kemunculan setiap digit dalam dataset.\n",
        "\n",
        "- Plot ini membantu dalam memahami sebaran kelas dan memastikan bahwa dataset tidak memiliki ketidakseimbangan yang signifikan dalam jumlah sampel untuk setiap digit.\n",
        "\n",
        "- Dalam kasus ini, setiap digit memiliki jumlah sampel yang relatif seimbang, yang merupakan kondisi yang baik untuk melatih model klasifikasi."
      ]
    },
    {
      "cell_type": "markdown",
      "metadata": {
        "id": "R4d-uQgYspkv"
      },
      "source": [
        "# **Load Kaggle A-Z**"
      ]
    },
    {
      "cell_type": "code",
      "execution_count": 28,
      "metadata": {
        "colab": {
          "base_uri": "https://localhost:8080/"
        },
        "id": "4UtfnxTystR9",
        "outputId": "3599e0c1-a344-43a0-a318-1902113b4ca5"
      },
      "outputs": [
        {
          "output_type": "stream",
          "name": "stdout",
          "text": [
            "--2023-12-04 15:24:02--  https://iaexpert.academy/arquivos/alfabeto_A-Z.zip\n",
            "Resolving iaexpert.academy (iaexpert.academy)... 162.159.134.42\n",
            "Connecting to iaexpert.academy (iaexpert.academy)|162.159.134.42|:443... connected.\n",
            "HTTP request sent, awaiting response... 200 OK\n",
            "Length: 193643888 (185M) [application/zip]\n",
            "Saving to: ‘alfabeto_A-Z.zip.1’\n",
            "\n",
            "alfabeto_A-Z.zip.1  100%[===================>] 184.67M   128MB/s    in 1.4s    \n",
            "\n",
            "2023-12-04 15:24:03 (128 MB/s) - ‘alfabeto_A-Z.zip.1’ saved [193643888/193643888]\n",
            "\n"
          ]
        }
      ],
      "source": [
        "!wget https://iaexpert.academy/arquivos/alfabeto_A-Z.zip"
      ]
    },
    {
      "cell_type": "code",
      "execution_count": 29,
      "metadata": {
        "id": "qc-t5VbBsyKg"
      },
      "outputs": [],
      "source": [
        "# Extract zip file\n",
        "zip_object = zipfile.ZipFile(file = 'alfabeto_A-Z.zip', mode = 'r')\n",
        "zip_object.extractall('./')\n",
        "zip_object.close()"
      ]
    },
    {
      "cell_type": "code",
      "execution_count": 30,
      "metadata": {
        "colab": {
          "base_uri": "https://localhost:8080/",
          "height": 424
        },
        "id": "OuGUuSUKs0HN",
        "outputId": "8fe4c25f-811d-4a96-c19e-23e070ebf17a"
      },
      "outputs": [
        {
          "output_type": "execute_result",
          "data": {
            "text/plain": [
              "           0  0.1  0.2  0.3  0.4  0.5  0.6  0.7  0.8  0.9  ...  0.639  0.640  \\\n",
              "0        0.0  0.0  0.0  0.0  0.0  0.0  0.0  0.0  0.0  0.0  ...    0.0    0.0   \n",
              "1        0.0  0.0  0.0  0.0  0.0  0.0  0.0  0.0  0.0  0.0  ...    0.0    0.0   \n",
              "2        0.0  0.0  0.0  0.0  0.0  0.0  0.0  0.0  0.0  0.0  ...    0.0    0.0   \n",
              "3        0.0  0.0  0.0  0.0  0.0  0.0  0.0  0.0  0.0  0.0  ...    0.0    0.0   \n",
              "4        0.0  0.0  0.0  0.0  0.0  0.0  0.0  0.0  0.0  0.0  ...    0.0    0.0   \n",
              "...      ...  ...  ...  ...  ...  ...  ...  ...  ...  ...  ...    ...    ...   \n",
              "372445  25.0  0.0  0.0  0.0  0.0  0.0  0.0  0.0  0.0  0.0  ...    0.0    0.0   \n",
              "372446  25.0  0.0  0.0  0.0  0.0  0.0  0.0  0.0  0.0  0.0  ...    0.0    0.0   \n",
              "372447  25.0  0.0  0.0  0.0  0.0  0.0  0.0  0.0  0.0  0.0  ...    0.0    0.0   \n",
              "372448  25.0  0.0  0.0  0.0  0.0  0.0  0.0  0.0  0.0  0.0  ...    0.0    0.0   \n",
              "372449  25.0  0.0  0.0  0.0  0.0  0.0  0.0  0.0  0.0  0.0  ...    0.0    0.0   \n",
              "\n",
              "        0.641  0.642  0.643  0.644  0.645  0.646  0.647  0.648  \n",
              "0         0.0    0.0    0.0    0.0    0.0    0.0    0.0    0.0  \n",
              "1         0.0    0.0    0.0    0.0    0.0    0.0    0.0    0.0  \n",
              "2         0.0    0.0    0.0    0.0    0.0    0.0    0.0    0.0  \n",
              "3         0.0    0.0    0.0    0.0    0.0    0.0    0.0    0.0  \n",
              "4         0.0    0.0    0.0    0.0    0.0    0.0    0.0    0.0  \n",
              "...       ...    ...    ...    ...    ...    ...    ...    ...  \n",
              "372445    0.0    0.0    0.0    0.0    0.0    0.0    0.0    0.0  \n",
              "372446    0.0    0.0    0.0    0.0    0.0    0.0    0.0    0.0  \n",
              "372447    0.0    0.0    0.0    0.0    0.0    0.0    0.0    0.0  \n",
              "372448    0.0    0.0    0.0    0.0    0.0    0.0    0.0    0.0  \n",
              "372449    0.0    0.0    0.0    0.0    0.0    0.0    0.0    0.0  \n",
              "\n",
              "[372450 rows x 785 columns]"
            ],
            "text/html": [
              "\n",
              "  <div id=\"df-d6482f19-2abe-4416-9a36-ba7f6378a042\" class=\"colab-df-container\">\n",
              "    <div>\n",
              "<style scoped>\n",
              "    .dataframe tbody tr th:only-of-type {\n",
              "        vertical-align: middle;\n",
              "    }\n",
              "\n",
              "    .dataframe tbody tr th {\n",
              "        vertical-align: top;\n",
              "    }\n",
              "\n",
              "    .dataframe thead th {\n",
              "        text-align: right;\n",
              "    }\n",
              "</style>\n",
              "<table border=\"1\" class=\"dataframe\">\n",
              "  <thead>\n",
              "    <tr style=\"text-align: right;\">\n",
              "      <th></th>\n",
              "      <th>0</th>\n",
              "      <th>0.1</th>\n",
              "      <th>0.2</th>\n",
              "      <th>0.3</th>\n",
              "      <th>0.4</th>\n",
              "      <th>0.5</th>\n",
              "      <th>0.6</th>\n",
              "      <th>0.7</th>\n",
              "      <th>0.8</th>\n",
              "      <th>0.9</th>\n",
              "      <th>...</th>\n",
              "      <th>0.639</th>\n",
              "      <th>0.640</th>\n",
              "      <th>0.641</th>\n",
              "      <th>0.642</th>\n",
              "      <th>0.643</th>\n",
              "      <th>0.644</th>\n",
              "      <th>0.645</th>\n",
              "      <th>0.646</th>\n",
              "      <th>0.647</th>\n",
              "      <th>0.648</th>\n",
              "    </tr>\n",
              "  </thead>\n",
              "  <tbody>\n",
              "    <tr>\n",
              "      <th>0</th>\n",
              "      <td>0.0</td>\n",
              "      <td>0.0</td>\n",
              "      <td>0.0</td>\n",
              "      <td>0.0</td>\n",
              "      <td>0.0</td>\n",
              "      <td>0.0</td>\n",
              "      <td>0.0</td>\n",
              "      <td>0.0</td>\n",
              "      <td>0.0</td>\n",
              "      <td>0.0</td>\n",
              "      <td>...</td>\n",
              "      <td>0.0</td>\n",
              "      <td>0.0</td>\n",
              "      <td>0.0</td>\n",
              "      <td>0.0</td>\n",
              "      <td>0.0</td>\n",
              "      <td>0.0</td>\n",
              "      <td>0.0</td>\n",
              "      <td>0.0</td>\n",
              "      <td>0.0</td>\n",
              "      <td>0.0</td>\n",
              "    </tr>\n",
              "    <tr>\n",
              "      <th>1</th>\n",
              "      <td>0.0</td>\n",
              "      <td>0.0</td>\n",
              "      <td>0.0</td>\n",
              "      <td>0.0</td>\n",
              "      <td>0.0</td>\n",
              "      <td>0.0</td>\n",
              "      <td>0.0</td>\n",
              "      <td>0.0</td>\n",
              "      <td>0.0</td>\n",
              "      <td>0.0</td>\n",
              "      <td>...</td>\n",
              "      <td>0.0</td>\n",
              "      <td>0.0</td>\n",
              "      <td>0.0</td>\n",
              "      <td>0.0</td>\n",
              "      <td>0.0</td>\n",
              "      <td>0.0</td>\n",
              "      <td>0.0</td>\n",
              "      <td>0.0</td>\n",
              "      <td>0.0</td>\n",
              "      <td>0.0</td>\n",
              "    </tr>\n",
              "    <tr>\n",
              "      <th>2</th>\n",
              "      <td>0.0</td>\n",
              "      <td>0.0</td>\n",
              "      <td>0.0</td>\n",
              "      <td>0.0</td>\n",
              "      <td>0.0</td>\n",
              "      <td>0.0</td>\n",
              "      <td>0.0</td>\n",
              "      <td>0.0</td>\n",
              "      <td>0.0</td>\n",
              "      <td>0.0</td>\n",
              "      <td>...</td>\n",
              "      <td>0.0</td>\n",
              "      <td>0.0</td>\n",
              "      <td>0.0</td>\n",
              "      <td>0.0</td>\n",
              "      <td>0.0</td>\n",
              "      <td>0.0</td>\n",
              "      <td>0.0</td>\n",
              "      <td>0.0</td>\n",
              "      <td>0.0</td>\n",
              "      <td>0.0</td>\n",
              "    </tr>\n",
              "    <tr>\n",
              "      <th>3</th>\n",
              "      <td>0.0</td>\n",
              "      <td>0.0</td>\n",
              "      <td>0.0</td>\n",
              "      <td>0.0</td>\n",
              "      <td>0.0</td>\n",
              "      <td>0.0</td>\n",
              "      <td>0.0</td>\n",
              "      <td>0.0</td>\n",
              "      <td>0.0</td>\n",
              "      <td>0.0</td>\n",
              "      <td>...</td>\n",
              "      <td>0.0</td>\n",
              "      <td>0.0</td>\n",
              "      <td>0.0</td>\n",
              "      <td>0.0</td>\n",
              "      <td>0.0</td>\n",
              "      <td>0.0</td>\n",
              "      <td>0.0</td>\n",
              "      <td>0.0</td>\n",
              "      <td>0.0</td>\n",
              "      <td>0.0</td>\n",
              "    </tr>\n",
              "    <tr>\n",
              "      <th>4</th>\n",
              "      <td>0.0</td>\n",
              "      <td>0.0</td>\n",
              "      <td>0.0</td>\n",
              "      <td>0.0</td>\n",
              "      <td>0.0</td>\n",
              "      <td>0.0</td>\n",
              "      <td>0.0</td>\n",
              "      <td>0.0</td>\n",
              "      <td>0.0</td>\n",
              "      <td>0.0</td>\n",
              "      <td>...</td>\n",
              "      <td>0.0</td>\n",
              "      <td>0.0</td>\n",
              "      <td>0.0</td>\n",
              "      <td>0.0</td>\n",
              "      <td>0.0</td>\n",
              "      <td>0.0</td>\n",
              "      <td>0.0</td>\n",
              "      <td>0.0</td>\n",
              "      <td>0.0</td>\n",
              "      <td>0.0</td>\n",
              "    </tr>\n",
              "    <tr>\n",
              "      <th>...</th>\n",
              "      <td>...</td>\n",
              "      <td>...</td>\n",
              "      <td>...</td>\n",
              "      <td>...</td>\n",
              "      <td>...</td>\n",
              "      <td>...</td>\n",
              "      <td>...</td>\n",
              "      <td>...</td>\n",
              "      <td>...</td>\n",
              "      <td>...</td>\n",
              "      <td>...</td>\n",
              "      <td>...</td>\n",
              "      <td>...</td>\n",
              "      <td>...</td>\n",
              "      <td>...</td>\n",
              "      <td>...</td>\n",
              "      <td>...</td>\n",
              "      <td>...</td>\n",
              "      <td>...</td>\n",
              "      <td>...</td>\n",
              "      <td>...</td>\n",
              "    </tr>\n",
              "    <tr>\n",
              "      <th>372445</th>\n",
              "      <td>25.0</td>\n",
              "      <td>0.0</td>\n",
              "      <td>0.0</td>\n",
              "      <td>0.0</td>\n",
              "      <td>0.0</td>\n",
              "      <td>0.0</td>\n",
              "      <td>0.0</td>\n",
              "      <td>0.0</td>\n",
              "      <td>0.0</td>\n",
              "      <td>0.0</td>\n",
              "      <td>...</td>\n",
              "      <td>0.0</td>\n",
              "      <td>0.0</td>\n",
              "      <td>0.0</td>\n",
              "      <td>0.0</td>\n",
              "      <td>0.0</td>\n",
              "      <td>0.0</td>\n",
              "      <td>0.0</td>\n",
              "      <td>0.0</td>\n",
              "      <td>0.0</td>\n",
              "      <td>0.0</td>\n",
              "    </tr>\n",
              "    <tr>\n",
              "      <th>372446</th>\n",
              "      <td>25.0</td>\n",
              "      <td>0.0</td>\n",
              "      <td>0.0</td>\n",
              "      <td>0.0</td>\n",
              "      <td>0.0</td>\n",
              "      <td>0.0</td>\n",
              "      <td>0.0</td>\n",
              "      <td>0.0</td>\n",
              "      <td>0.0</td>\n",
              "      <td>0.0</td>\n",
              "      <td>...</td>\n",
              "      <td>0.0</td>\n",
              "      <td>0.0</td>\n",
              "      <td>0.0</td>\n",
              "      <td>0.0</td>\n",
              "      <td>0.0</td>\n",
              "      <td>0.0</td>\n",
              "      <td>0.0</td>\n",
              "      <td>0.0</td>\n",
              "      <td>0.0</td>\n",
              "      <td>0.0</td>\n",
              "    </tr>\n",
              "    <tr>\n",
              "      <th>372447</th>\n",
              "      <td>25.0</td>\n",
              "      <td>0.0</td>\n",
              "      <td>0.0</td>\n",
              "      <td>0.0</td>\n",
              "      <td>0.0</td>\n",
              "      <td>0.0</td>\n",
              "      <td>0.0</td>\n",
              "      <td>0.0</td>\n",
              "      <td>0.0</td>\n",
              "      <td>0.0</td>\n",
              "      <td>...</td>\n",
              "      <td>0.0</td>\n",
              "      <td>0.0</td>\n",
              "      <td>0.0</td>\n",
              "      <td>0.0</td>\n",
              "      <td>0.0</td>\n",
              "      <td>0.0</td>\n",
              "      <td>0.0</td>\n",
              "      <td>0.0</td>\n",
              "      <td>0.0</td>\n",
              "      <td>0.0</td>\n",
              "    </tr>\n",
              "    <tr>\n",
              "      <th>372448</th>\n",
              "      <td>25.0</td>\n",
              "      <td>0.0</td>\n",
              "      <td>0.0</td>\n",
              "      <td>0.0</td>\n",
              "      <td>0.0</td>\n",
              "      <td>0.0</td>\n",
              "      <td>0.0</td>\n",
              "      <td>0.0</td>\n",
              "      <td>0.0</td>\n",
              "      <td>0.0</td>\n",
              "      <td>...</td>\n",
              "      <td>0.0</td>\n",
              "      <td>0.0</td>\n",
              "      <td>0.0</td>\n",
              "      <td>0.0</td>\n",
              "      <td>0.0</td>\n",
              "      <td>0.0</td>\n",
              "      <td>0.0</td>\n",
              "      <td>0.0</td>\n",
              "      <td>0.0</td>\n",
              "      <td>0.0</td>\n",
              "    </tr>\n",
              "    <tr>\n",
              "      <th>372449</th>\n",
              "      <td>25.0</td>\n",
              "      <td>0.0</td>\n",
              "      <td>0.0</td>\n",
              "      <td>0.0</td>\n",
              "      <td>0.0</td>\n",
              "      <td>0.0</td>\n",
              "      <td>0.0</td>\n",
              "      <td>0.0</td>\n",
              "      <td>0.0</td>\n",
              "      <td>0.0</td>\n",
              "      <td>...</td>\n",
              "      <td>0.0</td>\n",
              "      <td>0.0</td>\n",
              "      <td>0.0</td>\n",
              "      <td>0.0</td>\n",
              "      <td>0.0</td>\n",
              "      <td>0.0</td>\n",
              "      <td>0.0</td>\n",
              "      <td>0.0</td>\n",
              "      <td>0.0</td>\n",
              "      <td>0.0</td>\n",
              "    </tr>\n",
              "  </tbody>\n",
              "</table>\n",
              "<p>372450 rows × 785 columns</p>\n",
              "</div>\n",
              "    <div class=\"colab-df-buttons\">\n",
              "\n",
              "  <div class=\"colab-df-container\">\n",
              "    <button class=\"colab-df-convert\" onclick=\"convertToInteractive('df-d6482f19-2abe-4416-9a36-ba7f6378a042')\"\n",
              "            title=\"Convert this dataframe to an interactive table.\"\n",
              "            style=\"display:none;\">\n",
              "\n",
              "  <svg xmlns=\"http://www.w3.org/2000/svg\" height=\"24px\" viewBox=\"0 -960 960 960\">\n",
              "    <path d=\"M120-120v-720h720v720H120Zm60-500h600v-160H180v160Zm220 220h160v-160H400v160Zm0 220h160v-160H400v160ZM180-400h160v-160H180v160Zm440 0h160v-160H620v160ZM180-180h160v-160H180v160Zm440 0h160v-160H620v160Z\"/>\n",
              "  </svg>\n",
              "    </button>\n",
              "\n",
              "  <style>\n",
              "    .colab-df-container {\n",
              "      display:flex;\n",
              "      gap: 12px;\n",
              "    }\n",
              "\n",
              "    .colab-df-convert {\n",
              "      background-color: #E8F0FE;\n",
              "      border: none;\n",
              "      border-radius: 50%;\n",
              "      cursor: pointer;\n",
              "      display: none;\n",
              "      fill: #1967D2;\n",
              "      height: 32px;\n",
              "      padding: 0 0 0 0;\n",
              "      width: 32px;\n",
              "    }\n",
              "\n",
              "    .colab-df-convert:hover {\n",
              "      background-color: #E2EBFA;\n",
              "      box-shadow: 0px 1px 2px rgba(60, 64, 67, 0.3), 0px 1px 3px 1px rgba(60, 64, 67, 0.15);\n",
              "      fill: #174EA6;\n",
              "    }\n",
              "\n",
              "    .colab-df-buttons div {\n",
              "      margin-bottom: 4px;\n",
              "    }\n",
              "\n",
              "    [theme=dark] .colab-df-convert {\n",
              "      background-color: #3B4455;\n",
              "      fill: #D2E3FC;\n",
              "    }\n",
              "\n",
              "    [theme=dark] .colab-df-convert:hover {\n",
              "      background-color: #434B5C;\n",
              "      box-shadow: 0px 1px 3px 1px rgba(0, 0, 0, 0.15);\n",
              "      filter: drop-shadow(0px 1px 2px rgba(0, 0, 0, 0.3));\n",
              "      fill: #FFFFFF;\n",
              "    }\n",
              "  </style>\n",
              "\n",
              "    <script>\n",
              "      const buttonEl =\n",
              "        document.querySelector('#df-d6482f19-2abe-4416-9a36-ba7f6378a042 button.colab-df-convert');\n",
              "      buttonEl.style.display =\n",
              "        google.colab.kernel.accessAllowed ? 'block' : 'none';\n",
              "\n",
              "      async function convertToInteractive(key) {\n",
              "        const element = document.querySelector('#df-d6482f19-2abe-4416-9a36-ba7f6378a042');\n",
              "        const dataTable =\n",
              "          await google.colab.kernel.invokeFunction('convertToInteractive',\n",
              "                                                    [key], {});\n",
              "        if (!dataTable) return;\n",
              "\n",
              "        const docLinkHtml = 'Like what you see? Visit the ' +\n",
              "          '<a target=\"_blank\" href=https://colab.research.google.com/notebooks/data_table.ipynb>data table notebook</a>'\n",
              "          + ' to learn more about interactive tables.';\n",
              "        element.innerHTML = '';\n",
              "        dataTable['output_type'] = 'display_data';\n",
              "        await google.colab.output.renderOutput(dataTable, element);\n",
              "        const docLink = document.createElement('div');\n",
              "        docLink.innerHTML = docLinkHtml;\n",
              "        element.appendChild(docLink);\n",
              "      }\n",
              "    </script>\n",
              "  </div>\n",
              "\n",
              "\n",
              "<div id=\"df-4594e4dd-8904-4c86-9d19-a0fc01f5393c\">\n",
              "  <button class=\"colab-df-quickchart\" onclick=\"quickchart('df-4594e4dd-8904-4c86-9d19-a0fc01f5393c')\"\n",
              "            title=\"Suggest charts\"\n",
              "            style=\"display:none;\">\n",
              "\n",
              "<svg xmlns=\"http://www.w3.org/2000/svg\" height=\"24px\"viewBox=\"0 0 24 24\"\n",
              "     width=\"24px\">\n",
              "    <g>\n",
              "        <path d=\"M19 3H5c-1.1 0-2 .9-2 2v14c0 1.1.9 2 2 2h14c1.1 0 2-.9 2-2V5c0-1.1-.9-2-2-2zM9 17H7v-7h2v7zm4 0h-2V7h2v10zm4 0h-2v-4h2v4z\"/>\n",
              "    </g>\n",
              "</svg>\n",
              "  </button>\n",
              "\n",
              "<style>\n",
              "  .colab-df-quickchart {\n",
              "      --bg-color: #E8F0FE;\n",
              "      --fill-color: #1967D2;\n",
              "      --hover-bg-color: #E2EBFA;\n",
              "      --hover-fill-color: #174EA6;\n",
              "      --disabled-fill-color: #AAA;\n",
              "      --disabled-bg-color: #DDD;\n",
              "  }\n",
              "\n",
              "  [theme=dark] .colab-df-quickchart {\n",
              "      --bg-color: #3B4455;\n",
              "      --fill-color: #D2E3FC;\n",
              "      --hover-bg-color: #434B5C;\n",
              "      --hover-fill-color: #FFFFFF;\n",
              "      --disabled-bg-color: #3B4455;\n",
              "      --disabled-fill-color: #666;\n",
              "  }\n",
              "\n",
              "  .colab-df-quickchart {\n",
              "    background-color: var(--bg-color);\n",
              "    border: none;\n",
              "    border-radius: 50%;\n",
              "    cursor: pointer;\n",
              "    display: none;\n",
              "    fill: var(--fill-color);\n",
              "    height: 32px;\n",
              "    padding: 0;\n",
              "    width: 32px;\n",
              "  }\n",
              "\n",
              "  .colab-df-quickchart:hover {\n",
              "    background-color: var(--hover-bg-color);\n",
              "    box-shadow: 0 1px 2px rgba(60, 64, 67, 0.3), 0 1px 3px 1px rgba(60, 64, 67, 0.15);\n",
              "    fill: var(--button-hover-fill-color);\n",
              "  }\n",
              "\n",
              "  .colab-df-quickchart-complete:disabled,\n",
              "  .colab-df-quickchart-complete:disabled:hover {\n",
              "    background-color: var(--disabled-bg-color);\n",
              "    fill: var(--disabled-fill-color);\n",
              "    box-shadow: none;\n",
              "  }\n",
              "\n",
              "  .colab-df-spinner {\n",
              "    border: 2px solid var(--fill-color);\n",
              "    border-color: transparent;\n",
              "    border-bottom-color: var(--fill-color);\n",
              "    animation:\n",
              "      spin 1s steps(1) infinite;\n",
              "  }\n",
              "\n",
              "  @keyframes spin {\n",
              "    0% {\n",
              "      border-color: transparent;\n",
              "      border-bottom-color: var(--fill-color);\n",
              "      border-left-color: var(--fill-color);\n",
              "    }\n",
              "    20% {\n",
              "      border-color: transparent;\n",
              "      border-left-color: var(--fill-color);\n",
              "      border-top-color: var(--fill-color);\n",
              "    }\n",
              "    30% {\n",
              "      border-color: transparent;\n",
              "      border-left-color: var(--fill-color);\n",
              "      border-top-color: var(--fill-color);\n",
              "      border-right-color: var(--fill-color);\n",
              "    }\n",
              "    40% {\n",
              "      border-color: transparent;\n",
              "      border-right-color: var(--fill-color);\n",
              "      border-top-color: var(--fill-color);\n",
              "    }\n",
              "    60% {\n",
              "      border-color: transparent;\n",
              "      border-right-color: var(--fill-color);\n",
              "    }\n",
              "    80% {\n",
              "      border-color: transparent;\n",
              "      border-right-color: var(--fill-color);\n",
              "      border-bottom-color: var(--fill-color);\n",
              "    }\n",
              "    90% {\n",
              "      border-color: transparent;\n",
              "      border-bottom-color: var(--fill-color);\n",
              "    }\n",
              "  }\n",
              "</style>\n",
              "\n",
              "  <script>\n",
              "    async function quickchart(key) {\n",
              "      const quickchartButtonEl =\n",
              "        document.querySelector('#' + key + ' button');\n",
              "      quickchartButtonEl.disabled = true;  // To prevent multiple clicks.\n",
              "      quickchartButtonEl.classList.add('colab-df-spinner');\n",
              "      try {\n",
              "        const charts = await google.colab.kernel.invokeFunction(\n",
              "            'suggestCharts', [key], {});\n",
              "      } catch (error) {\n",
              "        console.error('Error during call to suggestCharts:', error);\n",
              "      }\n",
              "      quickchartButtonEl.classList.remove('colab-df-spinner');\n",
              "      quickchartButtonEl.classList.add('colab-df-quickchart-complete');\n",
              "    }\n",
              "    (() => {\n",
              "      let quickchartButtonEl =\n",
              "        document.querySelector('#df-4594e4dd-8904-4c86-9d19-a0fc01f5393c button');\n",
              "      quickchartButtonEl.style.display =\n",
              "        google.colab.kernel.accessAllowed ? 'block' : 'none';\n",
              "    })();\n",
              "  </script>\n",
              "</div>\n",
              "    </div>\n",
              "  </div>\n"
            ]
          },
          "metadata": {},
          "execution_count": 30
        }
      ],
      "source": [
        "dataset_az = pd.read_csv('A_Z Handwritten Data.csv').astype('float32')\n",
        "dataset_az"
      ]
    },
    {
      "cell_type": "markdown",
      "metadata": {
        "id": "nmq9Iczas5go"
      },
      "source": [
        "**Penjelasan**\n",
        "\n",
        "- Output yang ditampilkan adalah dataset A-Z Handwriting Data.csv. Data frame ini digunakan untuk melatih dan mengevaluasi model OCR CNN\n",
        "- Dataset ini memiliki 372,450 baris dan 785 kolom, di mana kolom pertama adalah label dan kolom-kolom berikutnya (784 kolom) adalah nilai piksel dari gambar-gambar alfabet tulisan tangan yang terdiri dari A-Z."
      ]
    },
    {
      "cell_type": "code",
      "execution_count": 9,
      "metadata": {
        "id": "xVLuouEjs9op"
      },
      "outputs": [],
      "source": [
        "# Get pixel data only\n",
        "alphabet_data = dataset_az.drop('0', axis=1)\n",
        "# Get labels only\n",
        "alphabet_labels = dataset_az['0']"
      ]
    },
    {
      "cell_type": "code",
      "execution_count": 10,
      "metadata": {
        "colab": {
          "base_uri": "https://localhost:8080/"
        },
        "id": "GM8pK0HWs_JL",
        "outputId": "1bcf6f03-2315-41e4-ba81-27a43edf3c0a"
      },
      "outputs": [
        {
          "output_type": "execute_result",
          "data": {
            "text/plain": [
              "((372450, 784), (372450,))"
            ]
          },
          "metadata": {},
          "execution_count": 10
        }
      ],
      "source": [
        "# Check shape data\n",
        "alphabet_data.shape, alphabet_labels.shape"
      ]
    },
    {
      "cell_type": "markdown",
      "metadata": {
        "id": "qoOCnOCqtBF3"
      },
      "source": [
        "Data piksel memiliki bentuk (372450, 784), sementara label memiliki bentuk (372450,)."
      ]
    },
    {
      "cell_type": "code",
      "execution_count": 11,
      "metadata": {
        "colab": {
          "base_uri": "https://localhost:8080/"
        },
        "id": "RSt6Xb4itDOF",
        "outputId": "1f23ee9a-f4a1-47c8-ce54-7af9ed4a6577"
      },
      "outputs": [
        {
          "output_type": "execute_result",
          "data": {
            "text/plain": [
              "(372450,)"
            ]
          },
          "metadata": {},
          "execution_count": 11
        }
      ],
      "source": [
        "# Check shape labels\n",
        "alphabet_labels.shape"
      ]
    },
    {
      "cell_type": "markdown",
      "metadata": {
        "id": "fLthI8bOtF14"
      },
      "source": [
        "**Penjelasan**\n",
        "\n",
        "Data label memiliki bentuk (372450,)."
      ]
    },
    {
      "cell_type": "code",
      "execution_count": 12,
      "metadata": {
        "colab": {
          "base_uri": "https://localhost:8080/"
        },
        "id": "pNvghCt8tLHp",
        "outputId": "42f8f3f0-025b-4fc6-bf0e-295b71df19d1"
      },
      "outputs": [
        {
          "output_type": "execute_result",
          "data": {
            "text/plain": [
              "(372450, 28, 28)"
            ]
          },
          "metadata": {},
          "execution_count": 12
        }
      ],
      "source": [
        "# Reshape pixel data to 28*28\n",
        "alphabet_data = np.reshape(alphabet_data.values, (alphabet_data.shape[0], 28, 28))\n",
        "# Check the result by its shape\n",
        "alphabet_data.shape"
      ]
    },
    {
      "cell_type": "markdown",
      "metadata": {
        "id": "g9fuWNictQMl"
      },
      "source": [
        "**Penjelasan**\n",
        "\n",
        "data digit memiliki 372.450 baris, 28 kolom, dan 28 baris. Baris mewakili setiap gambar digit, sedangkan kolom mewakili setiap piksel pada gambar tersebut."
      ]
    },
    {
      "cell_type": "code",
      "execution_count": 13,
      "metadata": {
        "colab": {
          "base_uri": "https://localhost:8080/",
          "height": 452
        },
        "id": "hpATUU2TtSg4",
        "outputId": "701c3bc6-83e6-4e94-a973-b4c82c161cae"
      },
      "outputs": [
        {
          "output_type": "display_data",
          "data": {
            "text/plain": [
              "<Figure size 640x480 with 1 Axes>"
            ],
            "image/png": "[encoded data removed]"
          },
          "metadata": {}
        }
      ],
      "source": [
        "# Randomly checking A-Z dataset\n",
        "index = np.random.randint(0, alphabet_data.shape[0])\n",
        "plt.imshow(alphabet_data[index], cmap = 'gray')\n",
        "plt.title('Class: ' + str(alphabet_labels[index]));"
      ]
    },
    {
      "cell_type": "markdown",
      "metadata": {
        "id": "uLoIMMoDtVsW"
      },
      "source": [
        "**Penjelasan**\n",
        "\n",
        "Kode tersebut digunakan untuk secara acak memeriksa data digit yang telah disiapkan. Fungsi np.random.randint() digunakan untuk menghasilkan bilangan bulat acak antara 0 dan jumlah baris data digit. Bilangan bulat ini kemudian digunakan untuk memilih salah satu digit dari data digit.\n",
        "\n",
        "Setelah digit dipilih, fungsi plt.imshow() digunakan untuk menampilkan digit tersebut sebagai gambar. Fungsi plt.title() digunakan untuk menambahkan judul pada gambar yang berisi kelas dari digit tersebut."
      ]
    },
    {
      "cell_type": "code",
      "execution_count": 16,
      "metadata": {
        "colab": {
          "base_uri": "https://localhost:8080/",
          "height": 468
        },
        "id": "vX4FzFf1tXnE",
        "outputId": "5db18a8a-4b30-42a5-905b-83ec882df994"
      },
      "outputs": [
        {
          "output_type": "execute_result",
          "data": {
            "text/plain": [
              "<Axes: xlabel='Labels', ylabel='count'>"
            ]
          },
          "metadata": {},
          "execution_count": 16
        },
        {
          "output_type": "display_data",
          "data": {
            "text/plain": [
              "<Figure size 640x480 with 1 Axes>"
            ],
            "image/png": "[encoded data removed]"
          },
          "metadata": {}
        }
      ],
      "source": [
        "# Check data distribution\n",
        "df_az_labels = pd.DataFrame({\n",
        "    'Labels': alphabet_labels.values\n",
        "})\n",
        "sns.countplot(df_az_labels, x='Labels')"
      ]
    },
    {
      "cell_type": "markdown",
      "metadata": {
        "id": "VgfJUvVDtbvm"
      },
      "source": [
        "**Penjelasan**\n",
        "\n",
        "Kode tersebut digunakan untuk memplot distribusi kelas dari data digit. Fungsi sns.countplot() digunakan untuk membuat plot batang yang menunjukkan jumlah data untuk setiap kelas.\n",
        "\n",
        "- Sumbu x menunjukkan kelas digit.\n",
        "- Sumbu y menunjukkan jumlah data untuk setiap kelas.\n",
        "- Tinggi setiap batang menunjukkan jumlah data untuk kelas tersebut."
      ]
    },
    {
      "cell_type": "markdown",
      "metadata": {
        "id": "1zO2VShFtf6h"
      },
      "source": [
        "# **Combine Dataset (MNIST + Kaggel A-Z)**"
      ]
    },
    {
      "cell_type": "code",
      "execution_count": 31,
      "metadata": {
        "colab": {
          "base_uri": "https://localhost:8080/"
        },
        "id": "0KKAEUHFtoF9",
        "outputId": "15e6fe48-13b8-41a7-d84c-54aea143972e"
      },
      "outputs": [
        {
          "output_type": "execute_result",
          "data": {
            "text/plain": [
              "array([0, 1, 2, 3, 4, 5, 6, 7, 8, 9], dtype=uint8)"
            ]
          },
          "metadata": {},
          "execution_count": 31
        }
      ],
      "source": [
        "# Check unique value from digits_labels\n",
        "np.unique(digits_labels)"
      ]
    },
    {
      "cell_type": "markdown",
      "metadata": {
        "id": "fJR1rvM6tq7p"
      },
      "source": [
        "**Penjelasan**\n",
        "\n",
        "Kode tersebut digunakan untuk memeriksa nilai unik dari label data digit. Fungsi np.unique() digunakan untuk mengembalikan nilai unik dari sebuah array.\n",
        "\n",
        "Artinya, label data digit hanya memiliki 10 nilai unik, yaitu 0, 1, 2, 3, 4, 5, 6, 7, 8, dan 9."
      ]
    },
    {
      "cell_type": "code",
      "execution_count": 32,
      "metadata": {
        "colab": {
          "base_uri": "https://localhost:8080/"
        },
        "id": "zot-96Ppttdr",
        "outputId": "b4eeae52-bcfd-4fad-ad1f-b320c34e063c"
      },
      "outputs": [
        {
          "output_type": "execute_result",
          "data": {
            "text/plain": [
              "array([ 0.,  1.,  2.,  3.,  4.,  5.,  6.,  7.,  8.,  9., 10., 11., 12.,\n",
              "       13., 14., 15., 16., 17., 18., 19., 20., 21., 22., 23., 24., 25.],\n",
              "      dtype=float32)"
            ]
          },
          "metadata": {},
          "execution_count": 32
        }
      ],
      "source": [
        "# Check unique value from alphabet_labels\n",
        "np.unique(alphabet_labels)"
      ]
    },
    {
      "cell_type": "markdown",
      "metadata": {
        "id": "219baGKGtvmS"
      },
      "source": [
        "**Penjelasan**\n",
        "\n",
        "Output yang dihasilkan berupa array dengan nilai unik dari label alfabet, yaitu 0.0, 1.0, 2.0, ..., 25.0. Dtype (dtype=float32) menunjukkan bahwa tipe data label ini adalah float32. Setelah penambahan (alphabet_labels += 10), nilai uniknya menjadi 10.0, 11.0, 12.0, ..., 35.0."
      ]
    },
    {
      "cell_type": "code",
      "execution_count": 33,
      "metadata": {
        "id": "q5_L6gfStx0z"
      },
      "outputs": [],
      "source": [
        "# We already know that digits labels containt labels from 0-9 (10 labels)\n",
        "# We also know that alphabet labels start from 0-25 which represent A-Z\n",
        "# If we want to combine them, the A-Z labels should continuing the digits label\n",
        "\n",
        "alphabet_labels += 10"
      ]
    },
    {
      "cell_type": "code",
      "execution_count": 34,
      "metadata": {
        "colab": {
          "base_uri": "https://localhost:8080/"
        },
        "id": "14T2MsWCt1OU",
        "outputId": "6b61738f-bf93-4515-f2a2-b7ff7f253c9c"
      },
      "outputs": [
        {
          "output_type": "execute_result",
          "data": {
            "text/plain": [
              "array([10., 11., 12., 13., 14., 15., 16., 17., 18., 19., 20., 21., 22.,\n",
              "       23., 24., 25., 26., 27., 28., 29., 30., 31., 32., 33., 34., 35.],\n",
              "      dtype=float32)"
            ]
          },
          "metadata": {},
          "execution_count": 34
        }
      ],
      "source": [
        "# check alphabet labels again\n",
        "np.unique(alphabet_labels)"
      ]
    },
    {
      "cell_type": "markdown",
      "metadata": {
        "id": "MszutY8ot3LP"
      },
      "source": [
        "Setelah penambahan (alphabet_labels += 10), nilai unik dari label pada dataset alfabet menjadi array [10., 11., 12., 13., 14., 15., 16., 17., 18., 19., 20., 21., 22., 23., 24., 25., 26., 27., 28., 29., 30., 31., 32., 33., 34., 35.]. Dtype (dtype=float32) menunjukkan bahwa tipe data label ini adalah float32."
      ]
    },
    {
      "cell_type": "code",
      "execution_count": 35,
      "metadata": {
        "id": "4PhPSiIRt5Cc"
      },
      "outputs": [],
      "source": [
        "# Combine both of them\n",
        "data = np.vstack([alphabet_data, digits_data])\n",
        "labels = np.hstack([alphabet_labels, digits_labels])"
      ]
    },
    {
      "cell_type": "code",
      "execution_count": 36,
      "metadata": {
        "colab": {
          "base_uri": "https://localhost:8080/"
        },
        "id": "LGk7xlDBt7VV",
        "outputId": "28b1229a-9b2d-4c12-a0d2-160dee941ada"
      },
      "outputs": [
        {
          "output_type": "execute_result",
          "data": {
            "text/plain": [
              "((442450, 28, 28), (442450,))"
            ]
          },
          "metadata": {},
          "execution_count": 36
        }
      ],
      "source": [
        "# Check the shape\n",
        "data.shape, labels.shape"
      ]
    },
    {
      "cell_type": "markdown",
      "metadata": {
        "id": "3YkLQjQqt9m-"
      },
      "source": [
        "- Output (442450, 28, 28) menunjukkan bahwa data sekarang memiliki 442,450 sampel, masing-masing dengan dimensi gambar 28x28 piksel.\n",
        "- Output (442450,) menunjukkan bahwa terdapat 442,450 label yang sesuai dengan setiap sampel data. Jumlah label sama dengan jumlah sampel data, menunjukkan bahwa setiap sampel memiliki label yang sesuai."
      ]
    },
    {
      "cell_type": "code",
      "execution_count": 37,
      "metadata": {
        "colab": {
          "base_uri": "https://localhost:8080/"
        },
        "id": "_7fkDS5muBam",
        "outputId": "053fdd0e-3bb4-4c21-ad6e-aed6a9e1b68f"
      },
      "outputs": [
        {
          "output_type": "execute_result",
          "data": {
            "text/plain": [
              "array([ 0.,  1.,  2.,  3.,  4.,  5.,  6.,  7.,  8.,  9., 10., 11., 12.,\n",
              "       13., 14., 15., 16., 17., 18., 19., 20., 21., 22., 23., 24., 25.,\n",
              "       26., 27., 28., 29., 30., 31., 32., 33., 34., 35.], dtype=float32)"
            ]
          },
          "metadata": {},
          "execution_count": 37
        }
      ],
      "source": [
        "# Check labels\n",
        "np.unique(labels)"
      ]
    },
    {
      "cell_type": "markdown",
      "metadata": {
        "id": "vt7_H42zuEFe"
      },
      "source": [
        "Output yang dihasilkan adalah array bertipe data float32"
      ]
    },
    {
      "cell_type": "code",
      "execution_count": 38,
      "metadata": {
        "id": "MkkhY7zBuGLj"
      },
      "outputs": [],
      "source": [
        "# Convert data to float32\n",
        "data = np.array(data, dtype = 'float32')"
      ]
    },
    {
      "cell_type": "code",
      "execution_count": 39,
      "metadata": {
        "colab": {
          "base_uri": "https://localhost:8080/"
        },
        "id": "Vj3iy1GeuHZb",
        "outputId": "c8559c53-ca49-456c-eb8d-4deb87ecc43a"
      },
      "outputs": [
        {
          "output_type": "execute_result",
          "data": {
            "text/plain": [
              "(442450, 28, 28, 1)"
            ]
          },
          "metadata": {},
          "execution_count": 39
        }
      ],
      "source": [
        "# Since Convolutional need 3d data (including depth)\n",
        "# and our images only in 2d data (because in grayscale format)\n",
        "# we need to add \"the depth\" to the data\n",
        "data = np.expand_dims(data, axis=-1)\n",
        "\n",
        "# check shape\n",
        "data.shape"
      ]
    },
    {
      "cell_type": "markdown",
      "metadata": {
        "id": "bFp34FQ8uJoL"
      },
      "source": [
        "Output (442450, 28, 28, 1) menunjukkan bahwa data sekarang memiliki 442,450 sampel, masing-masing dengan dimensi gambar 28x28 piksel, dan satu saluran warna (karena ada dimensi kedalaman/depth sebesar 1). Data ini sudah siap untuk digunakan dalam pelatihan model Convolutional Neural Network (CNN)."
      ]
    },
    {
      "cell_type": "markdown",
      "metadata": {
        "id": "ApkBV4gjuL1-"
      },
      "source": [
        "# **Preprocessing**"
      ]
    },
    {
      "cell_type": "code",
      "execution_count": 40,
      "metadata": {
        "id": "C7uXs4ytuLVk"
      },
      "outputs": [],
      "source": [
        "# Normalize data\n",
        "data /= 255.0"
      ]
    },
    {
      "cell_type": "code",
      "execution_count": 41,
      "metadata": {
        "colab": {
          "base_uri": "https://localhost:8080/"
        },
        "id": "EK_qyUZVuTdD",
        "outputId": "1a222e81-5cfd-4772-c84e-c3a7dc95424a"
      },
      "outputs": [
        {
          "output_type": "execute_result",
          "data": {
            "text/plain": [
              "(0.0, 1.0)"
            ]
          },
          "metadata": {},
          "execution_count": 41
        }
      ],
      "source": [
        "# Check range value of data\n",
        "data[0].min(), data[0].max()"
      ]
    },
    {
      "cell_type": "code",
      "execution_count": 42,
      "metadata": {
        "id": "5gKI8AznuZIc"
      },
      "outputs": [],
      "source": [
        "# Enconde the labels\n",
        "# LabelBinarizer similar with OneHotEncoder\n",
        "le = LabelBinarizer()\n",
        "labels = le.fit_transform(labels)"
      ]
    },
    {
      "cell_type": "markdown",
      "metadata": {
        "id": "DecQQojtuecJ"
      },
      "source": [
        "**Penjelasan**\n",
        "\n",
        "Menggunakan LabelBinarizer untuk mengkodekan label menjadi bentuk biner (one-hot encoding). Hasilnya adalah array dengan bentuk (442450, 36) karena sekarang terdapat 36 label yang mewakili digit 0-9 dan huruf A-Z."
      ]
    },
    {
      "cell_type": "code",
      "execution_count": 43,
      "metadata": {
        "colab": {
          "base_uri": "https://localhost:8080/"
        },
        "id": "Q_d6SKjsuh4r",
        "outputId": "c49e9fd1-5a8a-431a-cd84-fec8f61b3e59"
      },
      "outputs": [
        {
          "output_type": "execute_result",
          "data": {
            "text/plain": [
              "(442450, 36)"
            ]
          },
          "metadata": {},
          "execution_count": 43
        }
      ],
      "source": [
        "# Check labels shape\n",
        "labels.shape"
      ]
    },
    {
      "cell_type": "code",
      "execution_count": 44,
      "metadata": {
        "colab": {
          "base_uri": "https://localhost:8080/",
          "height": 469
        },
        "id": "O66bc8Opujxh",
        "outputId": "b692b363-fe65-4611-ce39-e141b7eb7b78"
      },
      "outputs": [
        {
          "output_type": "execute_result",
          "data": {
            "text/plain": [
              "Text(0.5, 1.0, '[0 0 0 0 0 0 0 0 0 0 1 0 0 0 0 0 0 0 0 0 0 0 0 0 0 0 0 0 0 0 0 0 0 0 0 0]')"
            ]
          },
          "metadata": {},
          "execution_count": 44
        },
        {
          "output_type": "display_data",
          "data": {
            "text/plain": [
              "<Figure size 640x480 with 1 Axes>"
            ],
            "image/png": "[encoded data removed]"
          },
          "metadata": {}
        }
      ],
      "source": [
        "# Check data with label binarizer's label\n",
        "plt.imshow(data[30000].reshape(28,28), cmap='gray')\n",
        "plt.title(str(labels[0]))"
      ]
    },
    {
      "cell_type": "markdown",
      "metadata": {
        "id": "dLfQx9H_unbR"
      },
      "source": [
        "Penjelasan\n",
        "\n",
        "Kode tersebut digunakan untuk menampilkan gambar digit dari data digit yang telah diubah bentuk menjadi 28x28 piksel. Fungsi plt.imshow() digunakan untuk menampilkan gambar, sedangkan fungsi plt.title() digunakan untuk menambahkan judul pada gambar yang berisi kelas dari digit tersebut.\n",
        "\n",
        "Kode diatas akan menampilkan label biner yang sesuai dengan sampel tersebut. Outputnya adalah Text(0.5, 1.0, '[0 0 0 0 0 0 0 0 0 0 1 0 0 0 0 0 0 0 0 0 0 0 0 0 0 0 0 0 0 0 0 0 0 0 0 0 0]'). Label ini menunjukkan bahwa digit atau huruf yang mewakili sampel tersebut adalah 10, yang sesuai dengan huruf 'A' dalam alfabet."
      ]
    },
    {
      "cell_type": "code",
      "execution_count": 45,
      "metadata": {
        "colab": {
          "base_uri": "https://localhost:8080/"
        },
        "id": "Ged1xwNSuper",
        "outputId": "82aef5f2-e721-4c3d-dba5-478ef9303123"
      },
      "outputs": [
        {
          "output_type": "execute_result",
          "data": {
            "text/plain": [
              "array([ 6903,  7877,  6990,  7141,  6824,  6313,  6876,  7293,  6825,\n",
              "        6958, 13869,  8668, 23409, 10134, 11440,  1163,  5762,  7218,\n",
              "        1120,  8493,  5603, 11586, 12336, 19010, 57825, 19341,  5812,\n",
              "       11566, 48419, 22495, 29008,  4182, 10784,  6272, 10859,  6076])"
            ]
          },
          "metadata": {},
          "execution_count": 45
        }
      ],
      "source": [
        "# Since our data is not balance, we will handle it by giving weight for 'small' data\n",
        "\n",
        "# Check number of data for each labels first\n",
        "classes_total = labels.sum(axis = 0)\n",
        "classes_total"
      ]
    },
    {
      "cell_type": "markdown",
      "metadata": {
        "id": "WkKbzglauqxy"
      },
      "source": [
        "Menghitung total data untuk setiap label menggunakan fungsi sum pada axis 0, menghasilkan array yang berisi jumlah data untuk setiap label."
      ]
    },
    {
      "cell_type": "code",
      "execution_count": 46,
      "metadata": {
        "colab": {
          "base_uri": "https://localhost:8080/"
        },
        "id": "LbQg1kckusLQ",
        "outputId": "eac8fa76-580c-4562-b161-907becf04ee6"
      },
      "outputs": [
        {
          "output_type": "execute_result",
          "data": {
            "text/plain": [
              "57825"
            ]
          },
          "metadata": {},
          "execution_count": 46
        }
      ],
      "source": [
        "# Check the biggest value of data\n",
        "classes_total.max()"
      ]
    },
    {
      "cell_type": "markdown",
      "metadata": {
        "id": "AyS-hYOOuvj3"
      },
      "source": [
        "Dari kode diatas, didapatkan nilai tertinggi dari jumlah data yaitu 57825"
      ]
    },
    {
      "cell_type": "code",
      "execution_count": 47,
      "metadata": {
        "colab": {
          "base_uri": "https://localhost:8080/"
        },
        "id": "NkdxxHTWuxnp",
        "outputId": "d1c36415-09c9-46cd-d7a4-5df4f3bc8e3c"
      },
      "outputs": [
        {
          "output_type": "execute_result",
          "data": {
            "text/plain": [
              "{0: 8.376792698826597,\n",
              " 1: 7.340992763742541,\n",
              " 2: 8.272532188841202,\n",
              " 3: 8.097605377398123,\n",
              " 4: 8.473769050410317,\n",
              " 5: 9.15967052114684,\n",
              " 6: 8.409685863874346,\n",
              " 7: 7.928835870012341,\n",
              " 8: 8.472527472527473,\n",
              " 9: 8.310577752227651,\n",
              " 10: 4.169370538611291,\n",
              " 11: 6.671089063221043,\n",
              " 12: 2.4702037677816224,\n",
              " 13: 5.7060390763765545,\n",
              " 14: 5.0546328671328675,\n",
              " 15: 49.72055030094583,\n",
              " 16: 10.035577924331829,\n",
              " 17: 8.011221945137157,\n",
              " 18: 51.629464285714285,\n",
              " 19: 6.808548216178029,\n",
              " 20: 10.320364090665715,\n",
              " 21: 4.990937338166753,\n",
              " 22: 4.6875,\n",
              " 23: 3.0418200946870066,\n",
              " 24: 1.0,\n",
              " 25: 2.989762680316426,\n",
              " 26: 9.94924294562973,\n",
              " 27: 4.999567698426422,\n",
              " 28: 1.1942625828703608,\n",
              " 29: 2.5705712380529007,\n",
              " 30: 1.993415609487038,\n",
              " 31: 13.827116212338593,\n",
              " 32: 5.362110534124629,\n",
              " 33: 9.21954719387755,\n",
              " 34: 5.3250759738465785,\n",
              " 35: 9.51695194206715}"
            ]
          },
          "metadata": {},
          "execution_count": 47
        }
      ],
      "source": [
        "# Create a weight for each data\n",
        "classes_weights = {}\n",
        "for i in range(0, len(classes_total)):\n",
        "  #print(i)\n",
        "  classes_weights[i] = classes_total.max() / classes_total[i]\n",
        "\n",
        "# Check the weight for each data\n",
        "classes_weights"
      ]
    },
    {
      "cell_type": "markdown",
      "metadata": {
        "id": "LqwkoeElu0fO"
      },
      "source": [
        "**Penjelasan**\n",
        "\n",
        "Membuat dictionary classes_weights yang berisi bobot untuk setiap label. Bobot dihitung sebagai hasil pembagian nilai tertinggi jumlah data dengan jumlah data untuk setiap label. classes_weights menunjukkan bobot untuk setiap label setelah dihitung. Bobot ini akan digunakan dalam pelatihan model untuk menangani ketidakseimbangan data."
      ]
    },
    {
      "cell_type": "markdown",
      "metadata": {
        "id": "QXRaR7ulu4qg"
      },
      "source": [
        "# **Split Data to Train and Test**"
      ]
    },
    {
      "cell_type": "code",
      "execution_count": 48,
      "metadata": {
        "id": "LdB7bhxbu-ah"
      },
      "outputs": [],
      "source": [
        "X_train, X_test, y_train, y_test = train_test_split(data, labels, test_size = 0.2, random_state = 1, stratify = labels)"
      ]
    },
    {
      "cell_type": "markdown",
      "metadata": {
        "id": "oYu6K_WavCiF"
      },
      "source": [
        "# **Create Data Augmentation**"
      ]
    },
    {
      "cell_type": "code",
      "execution_count": 49,
      "metadata": {
        "id": "ZqTjs5wevGDi"
      },
      "outputs": [],
      "source": [
        "# Import library\n",
        "from tensorflow.keras.preprocessing.image import ImageDataGenerator"
      ]
    },
    {
      "cell_type": "code",
      "execution_count": 50,
      "metadata": {
        "id": "mNREm1WCvIYQ"
      },
      "outputs": [],
      "source": [
        "augmentation = ImageDataGenerator(rotation_range = 10, zoom_range=0.05, width_shift_range=0.1,\n",
        "                                  height_shift_range=0.1, horizontal_flip = False)"
      ]
    },
    {
      "cell_type": "markdown",
      "metadata": {
        "id": "gdCW5JMtvLEq"
      },
      "source": [
        "# **Build CNN Model**"
      ]
    },
    {
      "cell_type": "code",
      "execution_count": 51,
      "metadata": {
        "id": "aYpgOA31vN8M"
      },
      "outputs": [],
      "source": [
        "# Import library\n",
        "from tensorflow.keras.models import Sequential\n",
        "from tensorflow.keras.layers import Conv2D, MaxPool2D, Flatten, Dense\n",
        "from tensorflow.keras.callbacks import ModelCheckpoint"
      ]
    },
    {
      "cell_type": "code",
      "execution_count": 52,
      "metadata": {
        "id": "zRsJZU1yvQ7Z"
      },
      "outputs": [],
      "source": [
        "# Build the network\n",
        "network = Sequential()\n",
        "\n",
        "network.add(Conv2D(filters = 32, kernel_size=(3,3), activation='relu', input_shape=(28,28,1)))\n",
        "network.add(MaxPool2D(pool_size=(2,2)))\n",
        "\n",
        "network.add(Conv2D(filters = 64, kernel_size=(3,3), activation='relu', padding='same'))\n",
        "network.add(MaxPool2D(pool_size=(2,2)))\n",
        "\n",
        "network.add(Conv2D(filters = 128, kernel_size=(3,3), activation='relu', padding='valid'))\n",
        "network.add(MaxPool2D(pool_size=(2,2)))\n",
        "\n",
        "network.add(Flatten())\n",
        "\n",
        "network.add(Dense(64, activation = 'relu'))\n",
        "network.add(Dense(128, activation = 'relu'))\n",
        "\n",
        "network.add(Dense(36, activation='softmax'))\n",
        "\n",
        "network.compile(loss = 'categorical_crossentropy', optimizer = 'adam', metrics = ['accuracy'])"
      ]
    },
    {
      "cell_type": "code",
      "execution_count": null,
      "metadata": {
        "colab": {
          "base_uri": "https://localhost:8080/"
        },
        "id": "A1_ckJpvvTsb",
        "outputId": "1bc060a8-eb72-40cc-e5ef-a627591c02f0"
      },
      "outputs": [
        {
          "name": "stdout",
          "output_type": "stream",
          "text": [
            "Model: \"sequential\"\n",
            "_________________________________________________________________\n",
            " Layer (type)                Output Shape              Param #   \n",
            "=================================================================\n",
            " conv2d (Conv2D)             (None, 26, 26, 32)        320       \n",
            "                                                                 \n",
            " max_pooling2d (MaxPooling2  (None, 13, 13, 32)        0         \n",
            " D)                                                              \n",
            "                                                                 \n",
            " conv2d_1 (Conv2D)           (None, 13, 13, 64)        18496     \n",
            "                                                                 \n",
            " max_pooling2d_1 (MaxPoolin  (None, 6, 6, 64)          0         \n",
            " g2D)                                                            \n",
            "                                                                 \n",
            " conv2d_2 (Conv2D)           (None, 4, 4, 128)         73856     \n",
            "                                                                 \n",
            " max_pooling2d_2 (MaxPoolin  (None, 2, 2, 128)         0         \n",
            " g2D)                                                            \n",
            "                                                                 \n",
            " flatten (Flatten)           (None, 512)               0         \n",
            "                                                                 \n",
            " dense (Dense)               (None, 64)                32832     \n",
            "                                                                 \n",
            " dense_1 (Dense)             (None, 128)               8320      \n",
            "                                                                 \n",
            " dense_2 (Dense)             (None, 36)                4644      \n",
            "                                                                 \n",
            "=================================================================\n",
            "Total params: 138468 (540.89 KB)\n",
            "Trainable params: 138468 (540.89 KB)\n",
            "Non-trainable params: 0 (0.00 Byte)\n",
            "_________________________________________________________________\n"
          ]
        }
      ],
      "source": [
        "# Check network summary\n",
        "network.summary()"
      ]
    },
    {
      "cell_type": "markdown",
      "metadata": {
        "id": "mz9wrQpMvYQw"
      },
      "source": [
        "**Penjelasan**\n",
        "\n",
        "Kode tersebut digunakan untuk membangun jaringan saraf tiruan (neural network) untuk pengenalan digit. Jaringan saraf tiruan ini menggunakan arsitektur convolutional neural network (CNN).\n",
        "\n",
        "jaringan saraf tiruan yang dibangun terdiri dari beberapa lapisan, yaitu:\n",
        "\n",
        "- Lapisan input (input layer) menerima data input, yaitu gambar digit.\n",
        "- Lapisan convolutional (convolutional layer) menyaring gambar untuk mengekstrak fitur-fitur penting.\n",
        "- Lapisan pooling (pooling layer) mengurangi ukuran gambar tanpa kehilangan informasi penting.\n",
        "- Lapisan flatten (flatten layer) mengubah gambar menjadi vektor.\n",
        "- Lapisan fully connected (fully connected layer) menghubungkan semua neuron dalam - lapisan sebelumnya.\n",
        "- Lapisan output (output layer) menghasilkan keluaran, yaitu kelas digit."
      ]
    },
    {
      "cell_type": "code",
      "execution_count": 53,
      "metadata": {
        "colab": {
          "base_uri": "https://localhost:8080/"
        },
        "id": "JO4HzePkvhZN",
        "outputId": "d26c0c79-67e7-46ff-e9f7-c7238dbf1bd2"
      },
      "outputs": [
        {
          "output_type": "stream",
          "name": "stdout",
          "text": [
            "['0', '1', '2', '3', '4', '5', '6', '7', '8', '9', 'A', 'B', 'C', 'D', 'E', 'F', 'G', 'H', 'I', 'J', 'K', 'L', 'M', 'N', 'O', 'P', 'Q', 'R', 'S', 'T', 'U', 'V', 'W', 'X', 'Y', 'Z']\n"
          ]
        }
      ],
      "source": [
        "# Create actual labels\n",
        "name_labels = '0123456789'\n",
        "name_labels += 'ABCDEFGHIJKLMNOPQRSTUVWXYZ'\n",
        "name_labels = [l for l in name_labels]\n",
        "\n",
        "# Check actual label\n",
        "print(name_labels)"
      ]
    },
    {
      "cell_type": "markdown",
      "metadata": {
        "id": "n39vMePjvkTr"
      },
      "source": [
        "# **Train model**"
      ]
    },
    {
      "cell_type": "code",
      "execution_count": 54,
      "metadata": {
        "id": "MHw-8Ru1vrM_"
      },
      "outputs": [],
      "source": [
        "# Set model name, epoch, and batch size\n",
        "file_model = 'custom_ocr.model'\n",
        "epochs = 20\n",
        "batch_size = 128"
      ]
    },
    {
      "cell_type": "markdown",
      "metadata": {
        "id": "bxyiqDEtvs4A"
      },
      "source": [
        "Dalam kode ini, model disimpan dengan nama 'custom_ocr.model'. Jumlah epoch ditetapkan sebanyak 20, dan ukuran batch untuk pelatihan adalah 128."
      ]
    },
    {
      "cell_type": "code",
      "execution_count": 55,
      "metadata": {
        "id": "5PQtnf7Avvrr"
      },
      "outputs": [],
      "source": [
        "# Setup checkpoint\n",
        "checkpointer = ModelCheckpoint(file_model, monitor = 'val_loss', verbose = 1, save_best_only=True)"
      ]
    },
    {
      "cell_type": "markdown",
      "metadata": {
        "id": "IZBQZX8Wv1bV"
      },
      "source": [
        "Membuat objek ModelCheckpoint untuk menyimpan model setiap kali terjadi perbaikan (monitor='val_loss') pada nilai validasi (save_best_only=True)."
      ]
    },
    {
      "cell_type": "code",
      "execution_count": 66,
      "metadata": {
        "colab": {
          "base_uri": "https://localhost:8080/"
        },
        "id": "M1PGxm0Zv3ad",
        "outputId": "08c4f2cb-c43f-45bc-8224-012969e2cd3c"
      },
      "outputs": [
        {
          "output_type": "stream",
          "name": "stdout",
          "text": [
            "Epoch 1/20\n",
            "2765/2765 [==============================] - ETA: 0s - loss: 2.3326 - accuracy: 0.8164\n",
            "Epoch 1: val_loss improved from inf to 0.27048, saving model to custom_ocr.model\n",
            "2765/2765 [==============================] - 466s 168ms/step - loss: 2.3326 - accuracy: 0.8164 - val_loss: 0.2705 - val_accuracy: 0.8857\n",
            "Epoch 2/20\n",
            "2765/2765 [==============================] - ETA: 0s - loss: 1.0316 - accuracy: 0.8979\n",
            "Epoch 2: val_loss improved from 0.27048 to 0.23836, saving model to custom_ocr.model\n",
            "2765/2765 [==============================] - 466s 169ms/step - loss: 1.0316 - accuracy: 0.8979 - val_loss: 0.2384 - val_accuracy: 0.9093\n",
            "Epoch 3/20\n",
            "2765/2765 [==============================] - ETA: 0s - loss: 0.8558 - accuracy: 0.9108\n",
            "Epoch 3: val_loss improved from 0.23836 to 0.17349, saving model to custom_ocr.model\n",
            "2765/2765 [==============================] - 449s 162ms/step - loss: 0.8558 - accuracy: 0.9108 - val_loss: 0.1735 - val_accuracy: 0.9345\n",
            "Epoch 4/20\n",
            "2765/2765 [==============================] - ETA: 0s - loss: 0.7469 - accuracy: 0.9193\n",
            "Epoch 4: val_loss did not improve from 0.17349\n",
            "2765/2765 [==============================] - 448s 162ms/step - loss: 0.7469 - accuracy: 0.9193 - val_loss: 0.2493 - val_accuracy: 0.9013\n",
            "Epoch 5/20\n",
            "2765/2765 [==============================] - ETA: 0s - loss: 0.6823 - accuracy: 0.9266\n",
            "Epoch 5: val_loss did not improve from 0.17349\n",
            "2765/2765 [==============================] - 447s 162ms/step - loss: 0.6823 - accuracy: 0.9266 - val_loss: 0.2602 - val_accuracy: 0.8992\n",
            "Epoch 6/20\n",
            "2765/2765 [==============================] - ETA: 0s - loss: 0.6420 - accuracy: 0.9290\n",
            "Epoch 6: val_loss did not improve from 0.17349\n",
            "2765/2765 [==============================] - 462s 167ms/step - loss: 0.6420 - accuracy: 0.9290 - val_loss: 0.3450 - val_accuracy: 0.8611\n",
            "Epoch 7/20\n",
            "2765/2765 [==============================] - ETA: 0s - loss: 0.5959 - accuracy: 0.9328\n",
            "Epoch 7: val_loss did not improve from 0.17349\n",
            "2765/2765 [==============================] - 438s 158ms/step - loss: 0.5959 - accuracy: 0.9328 - val_loss: 0.2449 - val_accuracy: 0.8959\n",
            "Epoch 8/20\n",
            "2765/2765 [==============================] - ETA: 0s - loss: 0.5727 - accuracy: 0.9352\n",
            "Epoch 8: val_loss did not improve from 0.17349\n",
            "2765/2765 [==============================] - 428s 155ms/step - loss: 0.5727 - accuracy: 0.9352 - val_loss: 0.3486 - val_accuracy: 0.8661\n",
            "Epoch 9/20\n",
            "2765/2765 [==============================] - ETA: 0s - loss: 0.5418 - accuracy: 0.9366\n",
            "Epoch 9: val_loss did not improve from 0.17349\n",
            "2765/2765 [==============================] - 428s 155ms/step - loss: 0.5418 - accuracy: 0.9366 - val_loss: 0.2907 - val_accuracy: 0.8804\n",
            "Epoch 10/20\n",
            "2765/2765 [==============================] - ETA: 0s - loss: 0.5269 - accuracy: 0.9386\n",
            "Epoch 10: val_loss did not improve from 0.17349\n",
            "2765/2765 [==============================] - 428s 155ms/step - loss: 0.5269 - accuracy: 0.9386 - val_loss: 0.1827 - val_accuracy: 0.9297\n",
            "Epoch 11/20\n",
            "2765/2765 [==============================] - ETA: 0s - loss: 0.5123 - accuracy: 0.9398\n",
            "Epoch 11: val_loss did not improve from 0.17349\n",
            "2765/2765 [==============================] - 427s 154ms/step - loss: 0.5123 - accuracy: 0.9398 - val_loss: 0.2253 - val_accuracy: 0.8990\n",
            "Epoch 12/20\n",
            "2765/2765 [==============================] - ETA: 0s - loss: 0.4921 - accuracy: 0.9412\n",
            "Epoch 12: val_loss did not improve from 0.17349\n",
            "2765/2765 [==============================] - 428s 155ms/step - loss: 0.4921 - accuracy: 0.9412 - val_loss: 0.1973 - val_accuracy: 0.9207\n",
            "Epoch 13/20\n",
            "2765/2765 [==============================] - ETA: 0s - loss: 0.4857 - accuracy: 0.9436\n",
            "Epoch 13: val_loss did not improve from 0.17349\n",
            "2765/2765 [==============================] - 427s 155ms/step - loss: 0.4857 - accuracy: 0.9436 - val_loss: 0.2135 - val_accuracy: 0.9070\n",
            "Epoch 14/20\n",
            "2765/2765 [==============================] - ETA: 0s - loss: 0.4661 - accuracy: 0.9447\n",
            "Epoch 14: val_loss did not improve from 0.17349\n",
            "2765/2765 [==============================] - 427s 154ms/step - loss: 0.4661 - accuracy: 0.9447 - val_loss: 0.2075 - val_accuracy: 0.9167\n",
            "Epoch 15/20\n",
            "2765/2765 [==============================] - ETA: 0s - loss: 0.4593 - accuracy: 0.9457\n",
            "Epoch 15: val_loss improved from 0.17349 to 0.14984, saving model to custom_ocr.model\n",
            "2765/2765 [==============================] - 427s 154ms/step - loss: 0.4593 - accuracy: 0.9457 - val_loss: 0.1498 - val_accuracy: 0.9487\n",
            "Epoch 16/20\n",
            "2765/2765 [==============================] - ETA: 0s - loss: 0.4481 - accuracy: 0.9466\n",
            "Epoch 16: val_loss did not improve from 0.14984\n",
            "2765/2765 [==============================] - 427s 154ms/step - loss: 0.4481 - accuracy: 0.9466 - val_loss: 0.1616 - val_accuracy: 0.9361\n",
            "Epoch 17/20\n",
            "2765/2765 [==============================] - ETA: 0s - loss: 0.4334 - accuracy: 0.9481\n",
            "Epoch 17: val_loss did not improve from 0.14984\n",
            "2765/2765 [==============================] - 427s 154ms/step - loss: 0.4334 - accuracy: 0.9481 - val_loss: 0.1530 - val_accuracy: 0.9502\n",
            "Epoch 18/20\n",
            "2765/2765 [==============================] - ETA: 0s - loss: 0.4349 - accuracy: 0.9484\n",
            "Epoch 18: val_loss improved from 0.14984 to 0.14302, saving model to custom_ocr.model\n",
            "2765/2765 [==============================] - 431s 156ms/step - loss: 0.4349 - accuracy: 0.9484 - val_loss: 0.1430 - val_accuracy: 0.9497\n",
            "Epoch 19/20\n",
            "2765/2765 [==============================] - ETA: 0s - loss: 0.4370 - accuracy: 0.9486\n",
            "Epoch 19: val_loss did not improve from 0.14302\n",
            "2765/2765 [==============================] - 429s 155ms/step - loss: 0.4370 - accuracy: 0.9486 - val_loss: 0.1784 - val_accuracy: 0.9238\n",
            "Epoch 20/20\n",
            "2765/2765 [==============================] - ETA: 0s - loss: 0.4122 - accuracy: 0.9504\n",
            "Epoch 20: val_loss did not improve from 0.14302\n",
            "2765/2765 [==============================] - 428s 155ms/step - loss: 0.4122 - accuracy: 0.9504 - val_loss: 0.1609 - val_accuracy: 0.9442\n"
          ]
        }
      ],
      "source": [
        "# Fit the model\n",
        "history = network.fit(augmentation.flow(X_train, y_train, batch_size=batch_size),\n",
        "                      validation_data = (X_test, y_test),\n",
        "                      steps_per_epoch = len(X_train) // batch_size, epochs=epochs,\n",
        "                      class_weight = classes_weights, verbose=1, callbacks=[checkpointer])"
      ]
    },
    {
      "cell_type": "markdown",
      "metadata": {
        "id": "XTJ5RssPwmdM"
      },
      "source": [
        "**Penjelasan**\n",
        "\n",
        "- augmentation mungkin merujuk pada suatu metode augmentasi data untuk memperbanyak variasi data pelatihan.\n",
        "- X_train dan y_train adalah data pelatihan dan labelnya.\n",
        "- X_test dan y_test adalah data pengujian dan labelnya.\n",
        "steps_per_epoch dihitung sebagai panjang data pelatihan dibagi dengan ukuran batch.\n",
        "- class_weight mungkin digunakan untuk menangani ketidakseimbangan kelas.\n",
        "- callbacks=[checkpointer] digunakan untuk menyimpan model terbaik selama pelatihan.\n",
        "\n",
        "Dari hasil running, terdapat beberapa informasi penting untuk setiap epoch:\n",
        "\n",
        "- loss: Nilai fungsi kerugian pada data pelatihan.\n",
        "- accuracy: Akurasi pada data pelatihan.\n",
        "- val_loss: Nilai fungsi kerugian pada data validasi.\n",
        "- val_accuracy: Akurasi pada data validasi.\n",
        "- informasi tambahan seperti waktu yang diambil untuk setiap epoch."
      ]
    },
    {
      "cell_type": "markdown",
      "metadata": {
        "id": "TcThLeQlw3i7"
      },
      "source": [
        "## **Evaluate Model**\n",
        "\n",
        "#### **Make a Single Prediction**"
      ]
    },
    {
      "cell_type": "code",
      "execution_count": 56,
      "metadata": {
        "id": "dd2NPgmWw26U",
        "colab": {
          "base_uri": "https://localhost:8080/"
        },
        "outputId": "1d961ba8-ad85-46d9-8a98-52ba12a78daf"
      },
      "outputs": [
        {
          "output_type": "stream",
          "name": "stdout",
          "text": [
            "692/692 [==============================] - 25s 36ms/step\n"
          ]
        }
      ],
      "source": [
        "# make a prediction\n",
        "predictions = network.predict(X_test, batch_size=batch_size)"
      ]
    },
    {
      "cell_type": "markdown",
      "metadata": {
        "id": "3J2acndrxFs0"
      },
      "source": [
        "menunjukkan bahwa model telah membuat prediksi pada data pengujian (X_test). Proses ini menghasilkan predictions yang merupakan hasil prediksi model untuk setiap sampel dalam data pengujian.\n",
        "\n",
        "Jumlah sampel yang diproses adalah 692, dan masing-masing prediksi dapat berupa nilai probabilitas untuk setiap kelas atau label yang ada dalam tugas klasifikasi."
      ]
    },
    {
      "cell_type": "code",
      "execution_count": 67,
      "metadata": {
        "id": "rfLExHmLxHiJ",
        "colab": {
          "base_uri": "https://localhost:8080/"
        },
        "outputId": "74ccb901-34b1-4125-ade3-72d5ad10cd8d"
      },
      "outputs": [
        {
          "output_type": "execute_result",
          "data": {
            "text/plain": [
              "array([0.02808159, 0.02793704, 0.02750123, 0.02774428, 0.02869424,\n",
              "       0.02893927, 0.02675846, 0.02967853, 0.02984903, 0.02747175,\n",
              "       0.02730906, 0.02705374, 0.02760337, 0.02833745, 0.02805854,\n",
              "       0.02761851, 0.02811916, 0.02869198, 0.02768797, 0.02775826,\n",
              "       0.02720176, 0.02789496, 0.02744313, 0.02645954, 0.02768848,\n",
              "       0.02755563, 0.02697626, 0.02716565, 0.02705989, 0.02782031,\n",
              "       0.02929774, 0.02708491, 0.02900945, 0.02725819, 0.02611686,\n",
              "       0.02707373], dtype=float32)"
            ]
          },
          "metadata": {},
          "execution_count": 67
        }
      ],
      "source": [
        "# Check prediction for data-0\n",
        "# You will get the probability for each label\n",
        "# The highest one is the prediction\n",
        "predictions[1]"
      ]
    },
    {
      "cell_type": "markdown",
      "metadata": {
        "id": "0xYi1F5WxJdb"
      },
      "source": [
        "**Penjelasan**\n",
        "\n",
        "menunjukkan array probabilitas untuk setiap kelas atau label yang mungkin dalam tugas klasifikasi. Setiap elemen array mewakili probabilitas bahwa data pengujian tersebut termasuk dalam kelas tertentu."
      ]
    },
    {
      "cell_type": "code",
      "execution_count": 68,
      "metadata": {
        "id": "j0qRy8bGxMDP",
        "colab": {
          "base_uri": "https://localhost:8080/"
        },
        "outputId": "60f36976-d58e-4cc1-db73-d3eeb58427ce"
      },
      "outputs": [
        {
          "output_type": "execute_result",
          "data": {
            "text/plain": [
              "8"
            ]
          },
          "metadata": {},
          "execution_count": 68
        }
      ],
      "source": [
        "# Get the actual prediction -> highest probability\n",
        "np.argmax(predictions[1])"
      ]
    },
    {
      "cell_type": "markdown",
      "metadata": {
        "id": "NTDeblL7xOi0"
      },
      "source": [
        "**Penjelasan**\n",
        "\n",
        "menunjukkan bahwa indeks dengan nilai tertinggi dalam array probabilitas adalah 18. Ini mengindikasikan bahwa model memprediksi bahwa sampel tersebut termasuk dalam kelas atau label dengan indeks 18."
      ]
    },
    {
      "cell_type": "code",
      "execution_count": 69,
      "metadata": {
        "id": "d9UiijaNxWmH",
        "colab": {
          "base_uri": "https://localhost:8080/",
          "height": 35
        },
        "outputId": "5d981fd4-4bcf-4a31-d51d-0092c1540dd9"
      },
      "outputs": [
        {
          "output_type": "execute_result",
          "data": {
            "text/plain": [
              "'I'"
            ],
            "application/vnd.google.colaboratory.intrinsic+json": {
              "type": "string"
            }
          },
          "metadata": {},
          "execution_count": 69
        }
      ],
      "source": [
        "# Check label for 24\n",
        "name_labels[18]"
      ]
    },
    {
      "cell_type": "markdown",
      "metadata": {
        "id": "b5RaVm9pxYMs"
      },
      "source": [
        "**Penjelasan**\n",
        "\n",
        "menunjukkan bahwa label atau nama yang terkait dengan kelas atau indeks 18 dalam tugas klasifikasi ini adalah 'I'."
      ]
    },
    {
      "cell_type": "code",
      "execution_count": 70,
      "metadata": {
        "id": "y-mDa52GxdIp",
        "colab": {
          "base_uri": "https://localhost:8080/"
        },
        "outputId": "6a31a432-d283-4997-c354-f1201ada0eb1"
      },
      "outputs": [
        {
          "output_type": "execute_result",
          "data": {
            "text/plain": [
              "array([0, 0, 0, 0, 0, 0, 0, 0, 0, 0, 0, 0, 0, 0, 0, 0, 0, 0, 1, 0, 0, 0,\n",
              "       0, 0, 0, 0, 0, 0, 0, 0, 0, 0, 0, 0, 0, 0])"
            ]
          },
          "metadata": {},
          "execution_count": 70
        }
      ],
      "source": [
        "# Check y_test label for 0\n",
        "y_test[1]"
      ]
    },
    {
      "cell_type": "markdown",
      "metadata": {
        "id": "EB5q80PGxfG8"
      },
      "source": [
        "**Penjelasan**\n",
        "\n",
        "menunjukkan bahwa label atau target sebenarnya untuk sampel tertentu dalam data pengujian adalah array biner di mana hanya satu elemen bernilai 1, yaitu pada indeks 18 (indeks dimulai dari 0)."
      ]
    },
    {
      "cell_type": "code",
      "execution_count": 71,
      "metadata": {
        "id": "PoFS7KaOxm1I",
        "colab": {
          "base_uri": "https://localhost:8080/"
        },
        "outputId": "485d46bd-93f8-4c8b-f9db-b614e5eeb38e"
      },
      "outputs": [
        {
          "output_type": "execute_result",
          "data": {
            "text/plain": [
              "18"
            ]
          },
          "metadata": {},
          "execution_count": 71
        }
      ],
      "source": [
        "# check the highest value\n",
        "np.argmax(y_test[1])"
      ]
    },
    {
      "cell_type": "markdown",
      "metadata": {
        "id": "VtBm6GzyxqxV"
      },
      "source": [
        "**Penjelasan**\n",
        "\n",
        "menunjukkan bahwa indeks yang memiliki nilai tertinggi (1) dalam array y_test[1] adalah 18"
      ]
    },
    {
      "cell_type": "code",
      "execution_count": 72,
      "metadata": {
        "id": "4wx9Gh8Uxxyd",
        "colab": {
          "base_uri": "https://localhost:8080/",
          "height": 35
        },
        "outputId": "071c3f68-eceb-493f-8b35-d18dca2949d0"
      },
      "outputs": [
        {
          "output_type": "execute_result",
          "data": {
            "text/plain": [
              "'S'"
            ],
            "application/vnd.google.colaboratory.intrinsic+json": {
              "type": "string"
            }
          },
          "metadata": {},
          "execution_count": 72
        }
      ],
      "source": [
        "# Check the label of y_test 0\n",
        "name_labels[np.argmax(y_test[18])]"
      ]
    },
    {
      "cell_type": "markdown",
      "metadata": {
        "id": "W1V-20gNyQl_"
      },
      "source": [
        "**Penjelasan**\n",
        "\n",
        "menunjukkan bahwa label atau nama yang terkait dengan kelas atau indeks yang memiliki nilai 1 dalam array y_test[18] adalah 'S'"
      ]
    },
    {
      "cell_type": "markdown",
      "metadata": {
        "id": "4PKUlgOYyVqm"
      },
      "source": [
        "**Make an Evaluation on Test Data**"
      ]
    },
    {
      "cell_type": "code",
      "execution_count": 73,
      "metadata": {
        "id": "LRWuA1ojyY3Q",
        "colab": {
          "base_uri": "https://localhost:8080/"
        },
        "outputId": "ca9b5ba5-4afe-4f67-d9a1-b63da4f2c349"
      },
      "outputs": [
        {
          "output_type": "stream",
          "name": "stdout",
          "text": [
            "2766/2766 [==============================] - 29s 10ms/step - loss: 0.1609 - accuracy: 0.9442\n"
          ]
        },
        {
          "output_type": "execute_result",
          "data": {
            "text/plain": [
              "[0.1608990579843521, 0.9442422986030579]"
            ]
          },
          "metadata": {},
          "execution_count": 73
        }
      ],
      "source": [
        "# Evaluate on test data\n",
        "network.evaluate(X_test, y_test)"
      ]
    },
    {
      "cell_type": "markdown",
      "metadata": {
        "id": "3qGIAeTuybnP"
      },
      "source": [
        "**Penjelasan**\n",
        "\n",
        "menunjukkan performa model pada data pengujian. Dua nilai yang dihasilkan adalah nilai fungsi kerugian (loss) dan akurasi.\n",
        "\n",
        "Dalam konteks ini:\n",
        "\n",
        "Loss: 0.1395\n",
        "Akurasi: 95.27%"
      ]
    },
    {
      "cell_type": "code",
      "execution_count": 74,
      "metadata": {
        "id": "Bpzm02uDygA6",
        "colab": {
          "base_uri": "https://localhost:8080/"
        },
        "outputId": "d5a87696-9975-4140-f19d-67b8c0f28428"
      },
      "outputs": [
        {
          "output_type": "stream",
          "name": "stdout",
          "text": [
            "              precision    recall  f1-score   support\n",
            "\n",
            "           0       0.00      0.00      0.00      1381\n",
            "           1       0.00      0.00      0.00      1575\n",
            "           2       0.00      0.00      0.00      1398\n",
            "           3       0.00      0.00      0.00      1428\n",
            "           4       0.00      0.00      0.00      1365\n",
            "           5       0.01      0.00      0.00      1263\n",
            "           6       0.00      0.00      0.00      1375\n",
            "           7       0.00      0.00      0.00      1459\n",
            "           8       0.02      0.90      0.03      1365\n",
            "           9       0.00      0.00      0.00      1392\n",
            "           A       0.00      0.00      0.00      2774\n",
            "           B       0.00      0.00      0.00      1734\n",
            "           C       0.00      0.00      0.00      4682\n",
            "           D       0.00      0.00      0.00      2027\n",
            "           E       0.00      0.00      0.00      2288\n",
            "           F       0.00      0.00      0.00       233\n",
            "           G       0.00      0.00      0.00      1152\n",
            "           H       0.00      0.00      0.00      1444\n",
            "           I       0.00      0.00      0.00       224\n",
            "           J       0.00      0.00      0.00      1698\n",
            "           K       0.00      0.00      0.00      1121\n",
            "           L       0.00      0.00      0.00      2317\n",
            "           M       0.00      0.00      0.00      2467\n",
            "           N       0.00      0.00      0.00      3802\n",
            "           O       0.00      0.00      0.00     11565\n",
            "           P       0.00      0.00      0.00      3868\n",
            "           Q       0.00      0.00      0.00      1162\n",
            "           R       0.00      0.00      0.00      2313\n",
            "           S       0.00      0.00      0.00      9684\n",
            "           T       0.00      0.00      0.00      4499\n",
            "           U       0.10      0.28      0.14      5801\n",
            "           V       0.00      0.00      0.00       836\n",
            "           W       0.00      0.00      0.00      2157\n",
            "           X       0.00      0.00      0.00      1254\n",
            "           Y       0.00      0.00      0.00      2172\n",
            "           Z       0.00      0.00      0.00      1215\n",
            "\n",
            "    accuracy                           0.03     88490\n",
            "   macro avg       0.00      0.03      0.01     88490\n",
            "weighted avg       0.01      0.03      0.01     88490\n",
            "\n"
          ]
        },
        {
          "output_type": "stream",
          "name": "stderr",
          "text": [
            "/usr/local/lib/python3.10/dist-packages/sklearn/metrics/_classification.py:1344: UndefinedMetricWarning: Precision and F-score are ill-defined and being set to 0.0 in labels with no predicted samples. Use `zero_division` parameter to control this behavior.\n",
            "  _warn_prf(average, modifier, msg_start, len(result))\n",
            "/usr/local/lib/python3.10/dist-packages/sklearn/metrics/_classification.py:1344: UndefinedMetricWarning: Precision and F-score are ill-defined and being set to 0.0 in labels with no predicted samples. Use `zero_division` parameter to control this behavior.\n",
            "  _warn_prf(average, modifier, msg_start, len(result))\n",
            "/usr/local/lib/python3.10/dist-packages/sklearn/metrics/_classification.py:1344: UndefinedMetricWarning: Precision and F-score are ill-defined and being set to 0.0 in labels with no predicted samples. Use `zero_division` parameter to control this behavior.\n",
            "  _warn_prf(average, modifier, msg_start, len(result))\n"
          ]
        }
      ],
      "source": [
        "# Print Classification Report\n",
        "print(classification_report(y_test.argmax(axis=1), predictions.argmax(axis=1), target_names = name_labels))"
      ]
    },
    {
      "cell_type": "markdown",
      "metadata": {
        "id": "FHeUWWF-yi1o"
      },
      "source": [
        "**Penjelasan**\n",
        "\n",
        "classification_report memberikan evaluasi kinerja model secara rinci dengan berbagai metrik seperti precision, recall, dan f1-score untuk setiap kelas.\n",
        "\n",
        "Berikut adalah beberapa poin penting dari laporan tersebut:\n",
        "\n",
        "- Precision: Kemampuan model untuk tidak mengklasifikasikan sampel yang sebenarnya negatif sebagai positif. Dalam konteks ini, Precision yang tinggi menunjukkan bahwa ketika model mengklasifikasikan sesuatu sebagai suatu kelas, itu cenderung benar.\n",
        "- Recall: Kemampuan model untuk mengidentifikasi semua sampel positif. Recall yang tinggi menunjukkan bahwa model mampu mendeteksi sebagian besar sampel yang sebenarnya positif.\n",
        "- F1-score: Harmonic mean dari precision dan recall. F1-score yang tinggi menunjukkan keseimbangan antara precision dan recall.\n",
        "Ketiga metrik tersebut diukur untuk setiap kelas yang terdaftar di laporan tersebut. Selain itu, laporan mencakup nilai rata-rata untuk precision, recall, dan f1-score di seluruh kelas, yang disebut sebagai \"macro avg,\" \"weighted avg,\" dan \"accuracy.\""
      ]
    },
    {
      "cell_type": "code",
      "execution_count": 75,
      "metadata": {
        "id": "Bl-tBfADyq24",
        "colab": {
          "base_uri": "https://localhost:8080/",
          "height": 447
        },
        "outputId": "6305a6f4-5cb6-4099-b95b-61f4f749e0fe"
      },
      "outputs": [
        {
          "output_type": "execute_result",
          "data": {
            "text/plain": [
              "[<matplotlib.lines.Line2D at 0x7d6f06739b40>]"
            ]
          },
          "metadata": {},
          "execution_count": 75
        },
        {
          "output_type": "display_data",
          "data": {
            "text/plain": [
              "<Figure size 640x480 with 1 Axes>"
            ],
            "image/png": "[encoded data removed]"
          },
          "metadata": {}
        }
      ],
      "source": [
        "# Visualize loss value for each epoch\n",
        "plt.plot(history.history['val_loss'])"
      ]
    },
    {
      "cell_type": "markdown",
      "metadata": {
        "id": "Rthb80wOytGo"
      },
      "source": [
        "Plot tersebut memberikan gambaran tentang bagaimana loss model pada data validasi berubah selama proses pelatihan"
      ]
    },
    {
      "cell_type": "code",
      "execution_count": 76,
      "metadata": {
        "id": "bDjZx_UJyugj",
        "colab": {
          "base_uri": "https://localhost:8080/"
        },
        "outputId": "d100c421-7403-444b-f4e1-c0758311e696"
      },
      "outputs": [
        {
          "output_type": "execute_result",
          "data": {
            "text/plain": [
              "dict_keys(['loss', 'accuracy', 'val_loss', 'val_accuracy'])"
            ]
          },
          "metadata": {},
          "execution_count": 76
        }
      ],
      "source": [
        "# You can also check the another metrics\n",
        "history.history.keys()"
      ]
    },
    {
      "cell_type": "markdown",
      "metadata": {
        "id": "Y1oFStxnyxGK"
      },
      "source": [
        "dict_keys(['loss', 'accuracy', 'val_loss', 'val_accuracy'])\n",
        "mendapatkan kumpulan kunci (keys) yang tersedia dalam objek history.history. Dalam konteks pelatihan model neural network, kunci-kunci umumnya adalah sebagai berikut:\n",
        "\n",
        "- 'loss': Nilai loss pada data pelatihan pada setiap epoch.\n",
        "- 'accuracy': Akurasi pada data pelatihan pada setiap epoch.\n",
        "- 'val_loss': Nilai loss pada data validasi pada setiap epoch.\n",
        "- 'val_accuracy': Akurasi pada data validasi pada setiap epoch.\n",
        "\n",
        "Dengan informasi ini, Anda dapat memanfaatkannya untuk membuat plot perubahan loss dan akurasi selama pelatihan model"
      ]
    },
    {
      "cell_type": "code",
      "execution_count": 77,
      "metadata": {
        "id": "uANKy24dy3yD",
        "colab": {
          "base_uri": "https://localhost:8080/",
          "height": 447
        },
        "outputId": "a7b2f718-dd0e-43f1-e2da-d404044038ab"
      },
      "outputs": [
        {
          "output_type": "execute_result",
          "data": {
            "text/plain": [
              "[<matplotlib.lines.Line2D at 0x7d6f0938a470>]"
            ]
          },
          "metadata": {},
          "execution_count": 77
        },
        {
          "output_type": "display_data",
          "data": {
            "text/plain": [
              "<Figure size 640x480 with 1 Axes>"
            ],
            "image/png": "[encoded data removed]"
          },
          "metadata": {}
        }
      ],
      "source": [
        "# Check the model performance by validation accuracy\n",
        "plt.plot(history.history['val_accuracy'])"
      ]
    },
    {
      "cell_type": "markdown",
      "metadata": {
        "id": "X7qovNN0y6Qf"
      },
      "source": [
        "# **Save The Model**"
      ]
    },
    {
      "cell_type": "code",
      "execution_count": 78,
      "metadata": {
        "id": "IHkudJ9Yy-ta",
        "colab": {
          "base_uri": "https://localhost:8080/"
        },
        "outputId": "9c014554-a731-4c8c-c374-ee6e9ab0b7fa"
      },
      "outputs": [
        {
          "output_type": "stream",
          "name": "stderr",
          "text": [
            "/usr/local/lib/python3.10/dist-packages/keras/src/engine/training.py:3079: UserWarning: You are saving your model as an HDF5 file via `model.save()`. This file format is considered legacy. We recommend using instead the native Keras format, e.g. `model.save('my_model.keras')`.\n",
            "  saving_api.save_model(\n"
          ]
        }
      ],
      "source": [
        "# The result will show in colab directory\n",
        "network.save('network', save_format= 'h5')"
      ]
    },
    {
      "cell_type": "markdown",
      "metadata": {
        "id": "qsDi0DdKzAZh"
      },
      "source": [
        "# **Testing on Real Image**"
      ]
    },
    {
      "cell_type": "code",
      "execution_count": 81,
      "metadata": {
        "id": "l53JzxtazFkX"
      },
      "outputs": [],
      "source": [
        "# Import library\n",
        "from tensorflow.keras.models import load_model"
      ]
    },
    {
      "cell_type": "code",
      "execution_count": 82,
      "metadata": {
        "id": "PfTx2LgYzHBb"
      },
      "outputs": [],
      "source": [
        "# Load saved network\n",
        "load_network = load_model('network')"
      ]
    },
    {
      "cell_type": "code",
      "execution_count": 83,
      "metadata": {
        "id": "5LYnvNShzIat",
        "colab": {
          "base_uri": "https://localhost:8080/"
        },
        "outputId": "336fcedd-f482-44b6-d375-06439e7a3281"
      },
      "outputs": [
        {
          "output_type": "stream",
          "name": "stdout",
          "text": [
            "Model: \"sequential\"\n",
            "_________________________________________________________________\n",
            " Layer (type)                Output Shape              Param #   \n",
            "=================================================================\n",
            " conv2d (Conv2D)             (None, 26, 26, 32)        320       \n",
            "                                                                 \n",
            " max_pooling2d (MaxPooling2  (None, 13, 13, 32)        0         \n",
            " D)                                                              \n",
            "                                                                 \n",
            " conv2d_1 (Conv2D)           (None, 13, 13, 64)        18496     \n",
            "                                                                 \n",
            " max_pooling2d_1 (MaxPoolin  (None, 6, 6, 64)          0         \n",
            " g2D)                                                            \n",
            "                                                                 \n",
            " conv2d_2 (Conv2D)           (None, 4, 4, 128)         73856     \n",
            "                                                                 \n",
            " max_pooling2d_2 (MaxPoolin  (None, 2, 2, 128)         0         \n",
            " g2D)                                                            \n",
            "                                                                 \n",
            " flatten (Flatten)           (None, 512)               0         \n",
            "                                                                 \n",
            " dense (Dense)               (None, 64)                32832     \n",
            "                                                                 \n",
            " dense_1 (Dense)             (None, 128)               8320      \n",
            "                                                                 \n",
            " dense_2 (Dense)             (None, 36)                4644      \n",
            "                                                                 \n",
            "=================================================================\n",
            "Total params: 138468 (540.89 KB)\n",
            "Trainable params: 138468 (540.89 KB)\n",
            "Non-trainable params: 0 (0.00 Byte)\n",
            "_________________________________________________________________\n"
          ]
        }
      ],
      "source": [
        "# Check summary\n",
        "load_network.summary()"
      ]
    },
    {
      "cell_type": "markdown",
      "metadata": {
        "id": "TcI9M2OezKeS"
      },
      "source": [
        "melihat lapisan-lapisan yang digunakan, bentuk output dari setiap lapisan, serta jumlah parameter yang dapat diatur (trainable params) dan jumlah total parameter."
      ]
    },
    {
      "cell_type": "code",
      "execution_count": 84,
      "metadata": {
        "id": "oCRXvyVPzMMu",
        "colab": {
          "base_uri": "https://localhost:8080/"
        },
        "outputId": "361e095e-59e2-4c84-c3cc-ff4cd4c1e2dc"
      },
      "outputs": [
        {
          "output_type": "stream",
          "name": "stdout",
          "text": [
            "Mounted at /content/drive\n"
          ]
        }
      ],
      "source": [
        "from google.colab import drive\n",
        "drive.mount('/content/drive')"
      ]
    },
    {
      "cell_type": "code",
      "execution_count": 89,
      "metadata": {
        "id": "i1pfWosRzPOq",
        "colab": {
          "base_uri": "https://localhost:8080/",
          "height": 317
        },
        "outputId": "d556fa6f-1cb6-4a15-a796-1ac61cda9f0d"
      },
      "outputs": [
        {
          "output_type": "display_data",
          "data": {
            "text/plain": [
              "<PIL.Image.Image image mode=RGB size=300x300>"
            ],
            "image/png": "[encoded data removed]"
          },
          "metadata": {}
        }
      ],
      "source": [
        "# Load Image\n",
        "import cv2\n",
        "from google.colab.patches import cv2_imshow\n",
        "\n",
        "img = cv2.imread('/content/drive/MyDrive/SEMESTER5/ML/kuis2/b_small.png')\n",
        "cv2_imshow(img)"
      ]
    },
    {
      "cell_type": "code",
      "execution_count": 90,
      "metadata": {
        "id": "eX03vlP7zUNF",
        "colab": {
          "base_uri": "https://localhost:8080/"
        },
        "outputId": "7829c8d8-4a2a-4e20-8112-63172b2be5b4"
      },
      "outputs": [
        {
          "output_type": "execute_result",
          "data": {
            "text/plain": [
              "(300, 300, 3)"
            ]
          },
          "metadata": {},
          "execution_count": 90
        }
      ],
      "source": [
        "# Check shape\n",
        "img.shape"
      ]
    },
    {
      "cell_type": "code",
      "execution_count": 91,
      "metadata": {
        "id": "ZNeMdgUMzVgV",
        "colab": {
          "base_uri": "https://localhost:8080/"
        },
        "outputId": "3a01e68d-590b-4098-faa2-603a7f4101e5"
      },
      "outputs": [
        {
          "output_type": "execute_result",
          "data": {
            "text/plain": [
              "(300, 300)"
            ]
          },
          "metadata": {},
          "execution_count": 91
        }
      ],
      "source": [
        "# Convert to gray\n",
        "gray_img = cv2.cvtColor(img, cv2.COLOR_BGR2GRAY)\n",
        "\n",
        "# check shape\n",
        "gray_img.shape"
      ]
    },
    {
      "cell_type": "code",
      "execution_count": 92,
      "metadata": {
        "id": "Q6WkprbWzXMb",
        "colab": {
          "base_uri": "https://localhost:8080/",
          "height": 334
        },
        "outputId": "91d15197-36b8-45d1-b2d7-bcb004908f93"
      },
      "outputs": [
        {
          "output_type": "display_data",
          "data": {
            "text/plain": [
              "<PIL.Image.Image image mode=L size=300x300>"
            ],
            "image/png": "[encoded data removed]"
          },
          "metadata": {}
        },
        {
          "output_type": "stream",
          "name": "stdout",
          "text": [
            "120.0\n"
          ]
        }
      ],
      "source": [
        "# Pre-process\n",
        "# Binary Threshold and Otsu\n",
        "value, thresh = cv2.threshold(gray_img, 0, 255, cv2.THRESH_BINARY + cv2.THRESH_OTSU)\n",
        "\n",
        "cv2_imshow(thresh)\n",
        "\n",
        "# print threshold value\n",
        "print(value)"
      ]
    },
    {
      "cell_type": "code",
      "execution_count": 93,
      "metadata": {
        "id": "fU0KCQ3_zZ4j",
        "colab": {
          "base_uri": "https://localhost:8080/",
          "height": 45
        },
        "outputId": "ebcfd999-246b-4660-90f5-7cf9e4b4de11"
      },
      "outputs": [
        {
          "output_type": "display_data",
          "data": {
            "text/plain": [
              "<PIL.Image.Image image mode=L size=28x28>"
            ],
            "image/png": "[encoded data removed]"
          },
          "metadata": {}
        }
      ],
      "source": [
        "# Resize image in order to match network input shape -> 28*28\n",
        "img_resize = cv2.resize(gray_img, (28,28))\n",
        "cv2_imshow(img_resize)"
      ]
    },
    {
      "cell_type": "code",
      "execution_count": 94,
      "metadata": {
        "id": "jDCo7sWVzbIm",
        "colab": {
          "base_uri": "https://localhost:8080/"
        },
        "outputId": "fa73a52e-dc17-4b07-bf8a-8111938c2a7c"
      },
      "outputs": [
        {
          "output_type": "execute_result",
          "data": {
            "text/plain": [
              "(28, 28, 1)"
            ]
          },
          "metadata": {},
          "execution_count": 94
        }
      ],
      "source": [
        "# Convert to float 32\n",
        "# and extend the dimension since network input shape is 28*28*1\n",
        "img_input = img_resize.astype('float32') / 255 # also perform normalization\n",
        "img_input = np.expand_dims(img_input, axis=-1) # insert depth\n",
        "\n",
        "# check shape\n",
        "img_input.shape"
      ]
    },
    {
      "cell_type": "code",
      "execution_count": 95,
      "metadata": {
        "id": "PZu20r_AzdAo",
        "colab": {
          "base_uri": "https://localhost:8080/"
        },
        "outputId": "0474dfe4-8111-4be8-bd9b-5d7c05039947"
      },
      "outputs": [
        {
          "output_type": "execute_result",
          "data": {
            "text/plain": [
              "(1, 28, 28, 1)"
            ]
          },
          "metadata": {},
          "execution_count": 95
        }
      ],
      "source": [
        "# Add \"amount of data\" as dimension\n",
        "img_input = np.reshape(img_input, (1,28,28,1))\n",
        "img_input.shape"
      ]
    },
    {
      "cell_type": "code",
      "execution_count": 96,
      "metadata": {
        "id": "3KZ7pzLfzeWQ",
        "colab": {
          "base_uri": "https://localhost:8080/"
        },
        "outputId": "28abd7b9-0988-446b-a099-f57782411af5"
      },
      "outputs": [
        {
          "output_type": "stream",
          "name": "stdout",
          "text": [
            "1/1 [==============================] - 0s 84ms/step\n"
          ]
        },
        {
          "output_type": "execute_result",
          "data": {
            "text/plain": [
              "6"
            ]
          },
          "metadata": {},
          "execution_count": 96
        }
      ],
      "source": [
        "# Make a predition\n",
        "prediction = load_network.predict(img_input)\n",
        "pred_label = np.argmax(prediction) # predict actual label\n",
        "pred_label"
      ]
    },
    {
      "cell_type": "code",
      "execution_count": 97,
      "metadata": {
        "id": "iadyoSmqzgWH",
        "colab": {
          "base_uri": "https://localhost:8080/",
          "height": 35
        },
        "outputId": "3c293516-78b5-4115-e1d1-1218b700c9c8"
      },
      "outputs": [
        {
          "output_type": "execute_result",
          "data": {
            "text/plain": [
              "'6'"
            ],
            "application/vnd.google.colaboratory.intrinsic+json": {
              "type": "string"
            }
          },
          "metadata": {},
          "execution_count": 97
        }
      ],
      "source": [
        "# check label for 6\n",
        "name_labels[6]"
      ]
    }
  ],
  "metadata": {
    "colab": {
      "provenance": []
    },
    "kernelspec": {
      "display_name": "Python 3",
      "name": "python3"
    },
    "language_info": {
      "name": "python"
    }
  },
  "nbformat": 4,
  "nbformat_minor": 0
}